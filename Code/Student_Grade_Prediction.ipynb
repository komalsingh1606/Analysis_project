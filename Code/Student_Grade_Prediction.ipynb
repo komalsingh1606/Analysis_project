{
  "nbformat": 4,
  "nbformat_minor": 0,
  "metadata": {
    "colab": {
      "provenance": [],
      "collapsed_sections": []
    },
    "kernelspec": {
      "name": "python3",
      "display_name": "Python 3"
    },
    "language_info": {
      "name": "python"
    }
  },
  "cells": [
    {
      "cell_type": "markdown",
      "source": [
        "# Importing the Pandas, NumPy, Matplotlib libraries.\n",
        "### Pandas: Use for analysing the data.\n",
        "### NumPy: Use for Numeric calculation\n",
        "### Matplotlib: Use for visualization \n"
      ],
      "metadata": {
        "id": "DzlDnx1EpDmM"
      }
    },
    {
      "cell_type": "code",
      "execution_count": 1,
      "metadata": {
        "id": "XnbyIUYWg0ay"
      },
      "outputs": [],
      "source": [
        "import pandas as pd\n",
        "import numpy as np\n",
        "import matplotlib.pyplot as plt\n"
      ]
    },
    {
      "cell_type": "markdown",
      "source": [
        "# Importing the Data set from kaggle of **Student Grade Prediction**"
      ],
      "metadata": {
        "id": "mPkLhpIJpfCS"
      }
    },
    {
      "cell_type": "code",
      "source": [
        "url = \"https://raw.githubusercontent.com/komalsingh1606/Analysis_project/main/Data%20Set/ca3_dataset.csv\"\n",
        "data = pd.read_csv(url)\n"
      ],
      "metadata": {
        "id": "aL4E-iSchUHd"
      },
      "execution_count": 5,
      "outputs": []
    },
    {
      "cell_type": "markdown",
      "source": [
        "# **Show Top 5 Row of data set**"
      ],
      "metadata": {
        "id": "fCJhM63fm9JG"
      }
    },
    {
      "cell_type": "code",
      "source": [
        "data.head()"
      ],
      "metadata": {
        "colab": {
          "base_uri": "https://localhost:8080/",
          "height": 386
        },
        "id": "qSnT1Vi4manY",
        "outputId": "0aa3b9e1-deee-4225-8118-f15da67b83d0"
      },
      "execution_count": 6,
      "outputs": [
        {
          "output_type": "execute_result",
          "data": {
            "text/plain": [
              "  School     Sex  Age Address         Family_size Parent_cohabitation_status  \\\n",
              "0     GP  Female   18   Urban      Greater than 3                      Apart   \n",
              "1     GP  Female   17   Urban      Greater than 3            Living together   \n",
              "2     GP  Female   15   Urban  Less or equal to 3            Living together   \n",
              "3     GP  Female   15   Urban      Greater than 3            Living together   \n",
              "4     GP  Female   16   Urban      Greater than 3            Living together   \n",
              "\n",
              "   Mother_education  Father_education Mother_job Father_job  ... Famrel  \\\n",
              "0                 4                 4    at_home    teacher  ...      4   \n",
              "1                 1                 1    at_home      other  ...      5   \n",
              "2                 1                 1    at_home      other  ...      4   \n",
              "3                 4                 2     health   services  ...      3   \n",
              "4                 3                 3      other      other  ...      4   \n",
              "\n",
              "  Free_time  Go_out  Dalc  Walc Health Absences  G1  G2  G3  \n",
              "0         3       4     1     1      3        6   5   6   6  \n",
              "1         3       3     1     1      3        4   5   5   6  \n",
              "2         3       2     2     3      3       10   7   8  10  \n",
              "3         2       2     1     1      5        2  15  14  15  \n",
              "4         3       2     1     2      5        4   6  10  10  \n",
              "\n",
              "[5 rows x 33 columns]"
            ],
            "text/html": [
              "\n",
              "  <div id=\"df-b9a9f3d4-6df3-41a0-a924-a15312013ea9\">\n",
              "    <div class=\"colab-df-container\">\n",
              "      <div>\n",
              "<style scoped>\n",
              "    .dataframe tbody tr th:only-of-type {\n",
              "        vertical-align: middle;\n",
              "    }\n",
              "\n",
              "    .dataframe tbody tr th {\n",
              "        vertical-align: top;\n",
              "    }\n",
              "\n",
              "    .dataframe thead th {\n",
              "        text-align: right;\n",
              "    }\n",
              "</style>\n",
              "<table border=\"1\" class=\"dataframe\">\n",
              "  <thead>\n",
              "    <tr style=\"text-align: right;\">\n",
              "      <th></th>\n",
              "      <th>School</th>\n",
              "      <th>Sex</th>\n",
              "      <th>Age</th>\n",
              "      <th>Address</th>\n",
              "      <th>Family_size</th>\n",
              "      <th>Parent_cohabitation_status</th>\n",
              "      <th>Mother_education</th>\n",
              "      <th>Father_education</th>\n",
              "      <th>Mother_job</th>\n",
              "      <th>Father_job</th>\n",
              "      <th>...</th>\n",
              "      <th>Famrel</th>\n",
              "      <th>Free_time</th>\n",
              "      <th>Go_out</th>\n",
              "      <th>Dalc</th>\n",
              "      <th>Walc</th>\n",
              "      <th>Health</th>\n",
              "      <th>Absences</th>\n",
              "      <th>G1</th>\n",
              "      <th>G2</th>\n",
              "      <th>G3</th>\n",
              "    </tr>\n",
              "  </thead>\n",
              "  <tbody>\n",
              "    <tr>\n",
              "      <th>0</th>\n",
              "      <td>GP</td>\n",
              "      <td>Female</td>\n",
              "      <td>18</td>\n",
              "      <td>Urban</td>\n",
              "      <td>Greater than 3</td>\n",
              "      <td>Apart</td>\n",
              "      <td>4</td>\n",
              "      <td>4</td>\n",
              "      <td>at_home</td>\n",
              "      <td>teacher</td>\n",
              "      <td>...</td>\n",
              "      <td>4</td>\n",
              "      <td>3</td>\n",
              "      <td>4</td>\n",
              "      <td>1</td>\n",
              "      <td>1</td>\n",
              "      <td>3</td>\n",
              "      <td>6</td>\n",
              "      <td>5</td>\n",
              "      <td>6</td>\n",
              "      <td>6</td>\n",
              "    </tr>\n",
              "    <tr>\n",
              "      <th>1</th>\n",
              "      <td>GP</td>\n",
              "      <td>Female</td>\n",
              "      <td>17</td>\n",
              "      <td>Urban</td>\n",
              "      <td>Greater than 3</td>\n",
              "      <td>Living together</td>\n",
              "      <td>1</td>\n",
              "      <td>1</td>\n",
              "      <td>at_home</td>\n",
              "      <td>other</td>\n",
              "      <td>...</td>\n",
              "      <td>5</td>\n",
              "      <td>3</td>\n",
              "      <td>3</td>\n",
              "      <td>1</td>\n",
              "      <td>1</td>\n",
              "      <td>3</td>\n",
              "      <td>4</td>\n",
              "      <td>5</td>\n",
              "      <td>5</td>\n",
              "      <td>6</td>\n",
              "    </tr>\n",
              "    <tr>\n",
              "      <th>2</th>\n",
              "      <td>GP</td>\n",
              "      <td>Female</td>\n",
              "      <td>15</td>\n",
              "      <td>Urban</td>\n",
              "      <td>Less or equal to 3</td>\n",
              "      <td>Living together</td>\n",
              "      <td>1</td>\n",
              "      <td>1</td>\n",
              "      <td>at_home</td>\n",
              "      <td>other</td>\n",
              "      <td>...</td>\n",
              "      <td>4</td>\n",
              "      <td>3</td>\n",
              "      <td>2</td>\n",
              "      <td>2</td>\n",
              "      <td>3</td>\n",
              "      <td>3</td>\n",
              "      <td>10</td>\n",
              "      <td>7</td>\n",
              "      <td>8</td>\n",
              "      <td>10</td>\n",
              "    </tr>\n",
              "    <tr>\n",
              "      <th>3</th>\n",
              "      <td>GP</td>\n",
              "      <td>Female</td>\n",
              "      <td>15</td>\n",
              "      <td>Urban</td>\n",
              "      <td>Greater than 3</td>\n",
              "      <td>Living together</td>\n",
              "      <td>4</td>\n",
              "      <td>2</td>\n",
              "      <td>health</td>\n",
              "      <td>services</td>\n",
              "      <td>...</td>\n",
              "      <td>3</td>\n",
              "      <td>2</td>\n",
              "      <td>2</td>\n",
              "      <td>1</td>\n",
              "      <td>1</td>\n",
              "      <td>5</td>\n",
              "      <td>2</td>\n",
              "      <td>15</td>\n",
              "      <td>14</td>\n",
              "      <td>15</td>\n",
              "    </tr>\n",
              "    <tr>\n",
              "      <th>4</th>\n",
              "      <td>GP</td>\n",
              "      <td>Female</td>\n",
              "      <td>16</td>\n",
              "      <td>Urban</td>\n",
              "      <td>Greater than 3</td>\n",
              "      <td>Living together</td>\n",
              "      <td>3</td>\n",
              "      <td>3</td>\n",
              "      <td>other</td>\n",
              "      <td>other</td>\n",
              "      <td>...</td>\n",
              "      <td>4</td>\n",
              "      <td>3</td>\n",
              "      <td>2</td>\n",
              "      <td>1</td>\n",
              "      <td>2</td>\n",
              "      <td>5</td>\n",
              "      <td>4</td>\n",
              "      <td>6</td>\n",
              "      <td>10</td>\n",
              "      <td>10</td>\n",
              "    </tr>\n",
              "  </tbody>\n",
              "</table>\n",
              "<p>5 rows × 33 columns</p>\n",
              "</div>\n",
              "      <button class=\"colab-df-convert\" onclick=\"convertToInteractive('df-b9a9f3d4-6df3-41a0-a924-a15312013ea9')\"\n",
              "              title=\"Convert this dataframe to an interactive table.\"\n",
              "              style=\"display:none;\">\n",
              "        \n",
              "  <svg xmlns=\"http://www.w3.org/2000/svg\" height=\"24px\"viewBox=\"0 0 24 24\"\n",
              "       width=\"24px\">\n",
              "    <path d=\"M0 0h24v24H0V0z\" fill=\"none\"/>\n",
              "    <path d=\"M18.56 5.44l.94 2.06.94-2.06 2.06-.94-2.06-.94-.94-2.06-.94 2.06-2.06.94zm-11 1L8.5 8.5l.94-2.06 2.06-.94-2.06-.94L8.5 2.5l-.94 2.06-2.06.94zm10 10l.94 2.06.94-2.06 2.06-.94-2.06-.94-.94-2.06-.94 2.06-2.06.94z\"/><path d=\"M17.41 7.96l-1.37-1.37c-.4-.4-.92-.59-1.43-.59-.52 0-1.04.2-1.43.59L10.3 9.45l-7.72 7.72c-.78.78-.78 2.05 0 2.83L4 21.41c.39.39.9.59 1.41.59.51 0 1.02-.2 1.41-.59l7.78-7.78 2.81-2.81c.8-.78.8-2.07 0-2.86zM5.41 20L4 18.59l7.72-7.72 1.47 1.35L5.41 20z\"/>\n",
              "  </svg>\n",
              "      </button>\n",
              "      \n",
              "  <style>\n",
              "    .colab-df-container {\n",
              "      display:flex;\n",
              "      flex-wrap:wrap;\n",
              "      gap: 12px;\n",
              "    }\n",
              "\n",
              "    .colab-df-convert {\n",
              "      background-color: #E8F0FE;\n",
              "      border: none;\n",
              "      border-radius: 50%;\n",
              "      cursor: pointer;\n",
              "      display: none;\n",
              "      fill: #1967D2;\n",
              "      height: 32px;\n",
              "      padding: 0 0 0 0;\n",
              "      width: 32px;\n",
              "    }\n",
              "\n",
              "    .colab-df-convert:hover {\n",
              "      background-color: #E2EBFA;\n",
              "      box-shadow: 0px 1px 2px rgba(60, 64, 67, 0.3), 0px 1px 3px 1px rgba(60, 64, 67, 0.15);\n",
              "      fill: #174EA6;\n",
              "    }\n",
              "\n",
              "    [theme=dark] .colab-df-convert {\n",
              "      background-color: #3B4455;\n",
              "      fill: #D2E3FC;\n",
              "    }\n",
              "\n",
              "    [theme=dark] .colab-df-convert:hover {\n",
              "      background-color: #434B5C;\n",
              "      box-shadow: 0px 1px 3px 1px rgba(0, 0, 0, 0.15);\n",
              "      filter: drop-shadow(0px 1px 2px rgba(0, 0, 0, 0.3));\n",
              "      fill: #FFFFFF;\n",
              "    }\n",
              "  </style>\n",
              "\n",
              "      <script>\n",
              "        const buttonEl =\n",
              "          document.querySelector('#df-b9a9f3d4-6df3-41a0-a924-a15312013ea9 button.colab-df-convert');\n",
              "        buttonEl.style.display =\n",
              "          google.colab.kernel.accessAllowed ? 'block' : 'none';\n",
              "\n",
              "        async function convertToInteractive(key) {\n",
              "          const element = document.querySelector('#df-b9a9f3d4-6df3-41a0-a924-a15312013ea9');\n",
              "          const dataTable =\n",
              "            await google.colab.kernel.invokeFunction('convertToInteractive',\n",
              "                                                     [key], {});\n",
              "          if (!dataTable) return;\n",
              "\n",
              "          const docLinkHtml = 'Like what you see? Visit the ' +\n",
              "            '<a target=\"_blank\" href=https://colab.research.google.com/notebooks/data_table.ipynb>data table notebook</a>'\n",
              "            + ' to learn more about interactive tables.';\n",
              "          element.innerHTML = '';\n",
              "          dataTable['output_type'] = 'display_data';\n",
              "          await google.colab.output.renderOutput(dataTable, element);\n",
              "          const docLink = document.createElement('div');\n",
              "          docLink.innerHTML = docLinkHtml;\n",
              "          element.appendChild(docLink);\n",
              "        }\n",
              "      </script>\n",
              "    </div>\n",
              "  </div>\n",
              "  "
            ]
          },
          "metadata": {},
          "execution_count": 6
        }
      ]
    },
    {
      "cell_type": "markdown",
      "source": [
        "#  **Show rows and column present in data set**\n"
      ],
      "metadata": {
        "id": "K9-iGMlhnJHX"
      }
    },
    {
      "cell_type": "code",
      "source": [
        "print(data.to_string())"
      ],
      "metadata": {
        "colab": {
          "base_uri": "https://localhost:8080/",
          "height": 0
        },
        "id": "tIdwZxh9Uy2m",
        "outputId": "24c58357-539f-482e-84cb-e7962f4366e3"
      },
      "execution_count": 15,
      "outputs": [
        {
          "output_type": "stream",
          "name": "stdout",
          "text": [
            "    School     Sex  Age Address         Family_size Parent_cohabitation_status  Mother_education  Father_education Mother_job Father_job      Reason Guardian  Trave_ltime  Study_time  Failures Schoolsup Family_educational Paid activities Nursery Higher Internet Romantic  Famrel  Free_time  Go_out  Dalc  Walc  Health  Absences  G1  G2  G3\n",
            "0       GP  Female   18   Urban      Greater than 3                      Apart                 4                 4    at_home    teacher      course   mother            2           2         0       yes                 no   no         no     yes    yes       no       no       4          3       4     1     1       3         6   5   6   6\n",
            "1       GP  Female   17   Urban      Greater than 3            Living together                 1                 1    at_home      other      course   father            1           2         0        no                yes   no         no      no    yes      yes       no       5          3       3     1     1       3         4   5   5   6\n",
            "2       GP  Female   15   Urban  Less or equal to 3            Living together                 1                 1    at_home      other       other   mother            1           2         3       yes                 no  yes         no     yes    yes      yes       no       4          3       2     2     3       3        10   7   8  10\n",
            "3       GP  Female   15   Urban      Greater than 3            Living together                 4                 2     health   services        home   mother            1           3         0        no                yes  yes        yes     yes    yes      yes      yes       3          2       2     1     1       5         2  15  14  15\n",
            "4       GP  Female   16   Urban      Greater than 3            Living together                 3                 3      other      other        home   father            1           2         0        no                yes  yes         no     yes    yes       no       no       4          3       2     1     2       5         4   6  10  10\n",
            "5       GP    Male   16   Urban  Less or equal to 3            Living together                 4                 3   services      other  reputation   mother            1           2         0        no                yes  yes        yes     yes    yes      yes       no       5          4       2     1     2       5        10  15  15  15\n",
            "6       GP    Male   16   Urban  Less or equal to 3            Living together                 2                 2      other      other        home   mother            1           2         0        no                 no   no         no     yes    yes      yes       no       4          4       4     1     1       3         0  12  12  11\n",
            "7       GP  Female   17   Urban      Greater than 3                      Apart                 4                 4      other    teacher        home   mother            2           2         0       yes                yes   no         no     yes    yes       no       no       4          1       4     1     1       1         6   6   5   6\n",
            "8       GP    Male   15   Urban  Less or equal to 3                      Apart                 3                 2   services      other        home   mother            1           2         0        no                yes  yes         no     yes    yes      yes       no       4          2       2     1     1       1         0  16  18  19\n",
            "9       GP    Male   15   Urban      Greater than 3            Living together                 3                 4      other      other        home   mother            1           2         0        no                yes  yes        yes     yes    yes      yes       no       5          5       1     1     1       5         0  14  15  15\n",
            "10      GP  Female   15   Urban      Greater than 3            Living together                 4                 4    teacher     health  reputation   mother            1           2         0        no                yes  yes         no     yes    yes      yes       no       3          3       3     1     2       2         0  10   8   9\n",
            "11      GP  Female   15   Urban      Greater than 3            Living together                 2                 1   services      other  reputation   father            3           3         0        no                yes   no        yes     yes    yes      yes       no       5          2       2     1     1       4         4  10  12  12\n",
            "12      GP    Male   15   Urban  Less or equal to 3            Living together                 4                 4     health   services      course   father            1           1         0        no                yes  yes        yes     yes    yes      yes       no       4          3       3     1     3       5         2  14  14  14\n",
            "13      GP    Male   15   Urban      Greater than 3            Living together                 4                 3    teacher      other      course   mother            2           2         0        no                yes  yes         no     yes    yes      yes       no       5          4       3     1     2       3         2  10  10  11\n",
            "14      GP    Male   15   Urban      Greater than 3                      Apart                 2                 2      other      other        home    other            1           3         0        no                yes   no         no     yes    yes      yes      yes       4          5       2     1     1       3         0  14  16  16\n",
            "15      GP  Female   16   Urban      Greater than 3            Living together                 4                 4     health      other        home   mother            1           1         0        no                yes   no         no     yes    yes      yes       no       4          4       4     1     2       2         4  14  14  14\n",
            "16      GP  Female   16   Urban      Greater than 3            Living together                 4                 4   services   services  reputation   mother            1           3         0        no                yes  yes        yes     yes    yes      yes       no       3          2       3     1     2       2         6  13  14  14\n",
            "17      GP  Female   16   Urban      Greater than 3            Living together                 3                 3      other      other  reputation   mother            3           2         0       yes                yes   no        yes     yes    yes       no       no       5          3       2     1     1       4         4   8  10  10\n",
            "18      GP    Male   17   Urban      Greater than 3            Living together                 3                 2   services   services      course   mother            1           1         3        no                yes   no        yes     yes    yes      yes       no       5          5       5     2     4       5        16   6   5   5\n",
            "19      GP    Male   16   Urban  Less or equal to 3            Living together                 4                 3     health      other        home   father            1           1         0        no                 no  yes        yes     yes    yes      yes       no       3          1       3     1     3       5         4   8  10  10\n",
            "20      GP    Male   15   Urban      Greater than 3            Living together                 4                 3    teacher      other  reputation   mother            1           2         0        no                 no   no         no     yes    yes      yes       no       4          4       1     1     1       1         0  13  14  15\n",
            "21      GP    Male   15   Urban      Greater than 3            Living together                 4                 4     health     health       other   father            1           1         0        no                yes  yes         no     yes    yes      yes       no       5          4       2     1     1       5         0  12  15  15\n",
            "22      GP    Male   16   Urban  Less or equal to 3            Living together                 4                 2    teacher      other      course   mother            1           2         0        no                 no   no        yes     yes    yes      yes       no       4          5       1     1     3       5         2  15  15  16\n",
            "23      GP    Male   16   Urban  Less or equal to 3            Living together                 2                 2      other      other  reputation   mother            2           2         0        no                yes   no        yes     yes    yes      yes       no       5          4       4     2     4       5         0  13  13  12\n",
            "24      GP  Female   15   Rural      Greater than 3            Living together                 2                 4   services     health      course   mother            1           3         0       yes                yes  yes        yes     yes    yes      yes       no       4          3       2     1     1       5         2  10   9   8\n",
            "25      GP  Female   16   Urban      Greater than 3            Living together                 2                 2   services   services        home   mother            1           1         2        no                yes  yes         no      no    yes      yes       no       1          2       2     1     3       5        14   6   9   8\n",
            "26      GP    Male   15   Urban      Greater than 3            Living together                 2                 2      other      other        home   mother            1           1         0        no                yes  yes         no     yes    yes      yes       no       4          2       2     1     2       5         2  12  12  11\n",
            "27      GP    Male   15   Urban      Greater than 3            Living together                 4                 2     health   services       other   mother            1           1         0        no                 no  yes         no     yes    yes      yes       no       2          2       4     2     4       1         4  15  16  15\n",
            "28      GP    Male   16   Urban  Less or equal to 3                      Apart                 3                 4   services      other        home   mother            1           2         0       yes                yes   no        yes     yes    yes      yes       no       5          3       3     1     1       5         4  11  11  11\n",
            "29      GP    Male   16   Urban      Greater than 3            Living together                 4                 4    teacher    teacher        home   mother            1           2         0        no                yes  yes        yes     yes    yes      yes      yes       4          4       5     5     5       5        16  10  12  11\n",
            "30      GP    Male   15   Urban      Greater than 3            Living together                 4                 4     health   services        home   mother            1           2         0        no                yes  yes         no      no    yes      yes       no       5          4       2     3     4       5         0   9  11  12\n",
            "31      GP    Male   15   Urban      Greater than 3            Living together                 4                 4   services   services  reputation   mother            2           2         0        no                yes   no        yes     yes    yes      yes       no       4          3       1     1     1       5         0  17  16  17\n",
            "32      GP    Male   15   Rural      Greater than 3            Living together                 4                 3    teacher    at_home      course   mother            1           2         0        no                yes   no        yes     yes    yes      yes      yes       4          5       2     1     1       5         0  17  16  16\n",
            "33      GP    Male   15   Urban  Less or equal to 3            Living together                 3                 3      other      other      course   mother            1           2         0        no                 no   no        yes      no    yes      yes       no       5          3       2     1     1       2         0   8  10  12\n",
            "34      GP    Male   16   Urban      Greater than 3            Living together                 3                 2      other      other        home   mother            1           1         0        no                yes  yes         no      no    yes      yes       no       5          4       3     1     1       5         0  12  14  15\n",
            "35      GP  Female   15   Urban      Greater than 3            Living together                 2                 3      other      other       other   father            2           1         0        no                yes   no        yes     yes    yes       no       no       3          5       1     1     1       5         0   8   7   6\n",
            "36      GP    Male   15   Urban  Less or equal to 3            Living together                 4                 3    teacher   services        home   mother            1           3         0        no                yes   no        yes     yes    yes      yes       no       5          4       3     1     1       4         2  15  16  18\n",
            "37      GP    Male   16   Rural      Greater than 3                      Apart                 4                 4      other    teacher  reputation   mother            2           3         0        no                yes   no        yes     yes    yes      yes      yes       2          4       3     1     1       5         7  15  16  15\n",
            "38      GP  Female   15   Rural      Greater than 3            Living together                 3                 4   services     health      course   mother            1           3         0       yes                yes  yes        yes     yes    yes      yes       no       4          3       2     1     1       5         2  12  12  11\n",
            "39      GP  Female   15   Rural      Greater than 3            Living together                 2                 2    at_home      other  reputation   mother            1           1         0       yes                yes  yes        yes     yes    yes       no       no       4          3       1     1     1       2         8  14  13  13\n",
            "40      GP  Female   16   Urban  Less or equal to 3            Living together                 2                 2      other      other        home   mother            2           2         1        no                yes   no        yes      no    yes      yes      yes       3          3       3     1     2       3        25   7  10  11\n",
            "41      GP    Male   15   Urban  Less or equal to 3            Living together                 4                 4    teacher      other        home    other            1           1         0        no                yes   no         no      no    yes      yes      yes       5          4       3     2     4       5         8  12  12  12\n",
            "42      GP    Male   15   Urban      Greater than 3            Living together                 4                 4   services    teacher      course   father            1           2         0        no                yes   no        yes     yes    yes      yes       no       4          3       3     1     1       5         2  19  18  18\n",
            "43      GP    Male   15   Urban      Greater than 3            Living together                 2                 2   services   services      course   father            1           1         0       yes                yes   no         no     yes    yes      yes       no       5          4       1     1     1       1         0   8   8  11\n",
            "44      GP  Female   16   Urban  Less or equal to 3            Living together                 2                 2      other    at_home      course   father            2           2         1       yes                 no   no        yes     yes    yes      yes       no       4          3       3     2     2       5        14  10  10   9\n",
            "45      GP  Female   15   Urban  Less or equal to 3                      Apart                 4                 3      other      other      course   mother            1           2         0       yes                yes  yes        yes     yes    yes      yes      yes       5          2       2     1     1       5         8   8   8   6\n",
            "46      GP  Female   16   Urban  Less or equal to 3                      Apart                 3                 3      other   services        home   mother            1           2         0        no                yes   no         no     yes    yes      yes       no       2          3       5     1     4       3        12  11  12  11\n",
            "47      GP    Male   16   Urban      Greater than 3            Living together                 4                 3     health   services  reputation   mother            1           4         0        no                 no   no        yes     yes    yes      yes       no       4          2       2     1     1       2         4  19  19  20\n",
            "48      GP    Male   15   Urban      Greater than 3            Living together                 4                 2    teacher      other        home   mother            1           2         0        no                yes  yes         no     yes    yes       no       no       4          3       3     2     2       5         2  15  15  14\n",
            "49      GP  Female   15   Urban      Greater than 3            Living together                 4                 4   services    teacher       other   father            1           2         1       yes                yes   no        yes      no    yes      yes       no       4          4       4     1     1       3         2   7   7   7\n",
            "50      GP  Female   16   Urban  Less or equal to 3            Living together                 2                 2   services   services      course   mother            3           2         0        no                yes  yes         no     yes    yes      yes       no       4          3       3     2     3       4         2  12  13  13\n",
            "51      GP  Female   15   Urban  Less or equal to 3            Living together                 4                 2     health      other       other   mother            1           2         0        no                yes  yes         no     yes    yes      yes       no       4          3       3     1     1       5         2  11  13  13\n",
            "52      GP    Male   15   Urban  Less or equal to 3                      Apart                 4                 2     health     health       other   father            2           1         1        no                 no   no         no     yes    yes       no       no       5          5       5     3     4       5         6  11  11  10\n",
            "53      GP  Female   15   Urban      Greater than 3            Living together                 4                 4   services   services      course   mother            1           1         0       yes                yes  yes         no     yes    yes      yes       no       3          3       4     2     3       5         0   8  10  11\n",
            "54      GP  Female   15   Urban  Less or equal to 3                      Apart                 3                 3      other      other       other   mother            1           1         0        no                 no  yes         no     yes    yes      yes       no       5          3       4     4     4       1         6  10  13  13\n",
            "55      GP  Female   16   Urban      Greater than 3                      Apart                 2                 1      other      other       other   mother            1           2         0        no                 no  yes        yes     yes    yes      yes      yes       5          3       4     1     1       2         8   8   9  10\n",
            "56      GP  Female   15   Urban      Greater than 3                      Apart                 4                 3   services   services  reputation   mother            1           2         0        no                yes  yes        yes     yes    yes      yes       no       4          3       2     1     1       1         0  14  15  15\n",
            "57      GP    Male   15   Urban      Greater than 3            Living together                 4                 4    teacher     health  reputation   mother            1           2         0        no                yes   no        yes     yes    yes       no       no       3          2       2     1     1       5         4  14  15  15\n",
            "58      GP    Male   15   Urban  Less or equal to 3            Living together                 1                 2      other    at_home        home   father            1           2         0       yes                yes   no        yes     yes    yes      yes       no       4          3       2     1     1       5         2   9  10   9\n",
            "59      GP  Female   16   Urban      Greater than 3            Living together                 4                 2   services      other      course   mother            1           2         0        no                yes   no         no     yes    yes      yes       no       4          2       3     1     1       5         2  15  16  16\n",
            "60      GP  Female   16   Rural      Greater than 3            Living together                 4                 4     health    teacher       other   mother            1           2         0        no                yes   no        yes     yes    yes       no       no       2          4       4     2     3       4         6  10  11  11\n",
            "61      GP  Female   16   Urban      Greater than 3            Living together                 1                 1   services   services      course   father            4           1         0       yes                yes   no        yes      no    yes      yes      yes       5          5       5     5     5       5         6  10   8  11\n",
            "62      GP  Female   16   Urban  Less or equal to 3            Living together                 1                 2      other   services  reputation   father            1           2         0       yes                 no   no        yes     yes    yes      yes       no       4          4       3     1     1       1         4   8  10   9\n",
            "63      GP  Female   16   Urban      Greater than 3            Living together                 4                 3    teacher     health        home   mother            1           3         0       yes                yes  yes        yes     yes    yes      yes       no       3          4       4     2     4       4         2  10   9   9\n",
            "64      GP  Female   15   Urban  Less or equal to 3            Living together                 4                 3   services   services  reputation   father            1           2         0       yes                 no   no        yes     yes    yes      yes      yes       4          4       4     2     4       2         0  10  10  10\n",
            "65      GP  Female   16   Urban  Less or equal to 3            Living together                 4                 3    teacher   services      course   mother            3           2         0        no                yes   no        yes     yes    yes      yes       no       5          4       3     1     2       1         2  16  15  15\n",
            "66      GP    Male   15   Urban      Greater than 3                      Apart                 4                 4      other   services  reputation   mother            1           4         0        no                yes   no        yes      no    yes      yes      yes       1          3       3     5     5       3         4  13  13  12\n",
            "67      GP  Female   16   Urban      Greater than 3            Living together                 3                 1   services      other      course   mother            1           4         0       yes                yes  yes         no     yes    yes      yes       no       4          3       3     1     2       5         4   7   7   6\n",
            "68      GP  Female   15   Rural  Less or equal to 3            Living together                 2                 2     health   services  reputation   mother            2           2         0       yes                yes  yes         no     yes    yes      yes       no       4          1       3     1     3       4         2   8   9   8\n",
            "69      GP  Female   15   Rural  Less or equal to 3            Living together                 3                 1      other      other  reputation   father            2           4         0        no                yes   no         no      no    yes      yes       no       4          4       2     2     3       3        12  16  16  16\n",
            "70      GP    Male   16   Urban      Greater than 3            Living together                 3                 1      other      other  reputation   father            2           4         0        no                yes  yes         no     yes    yes      yes       no       4          3       2     1     1       5         0  13  15  15\n",
            "71      GP    Male   15   Urban      Greater than 3            Living together                 4                 2      other      other      course   mother            1           4         0        no                 no   no         no     yes    yes      yes       no       3          3       3     1     1       3         0  10  10  10\n",
            "72      GP  Female   15   Rural      Greater than 3            Living together                 1                 1      other      other  reputation   mother            1           2         2       yes                yes   no         no      no    yes      yes      yes       3          3       4     2     4       5         2   8   6   5\n",
            "73      GP    Male   16   Urban      Greater than 3            Living together                 3                 1      other      other  reputation   mother            1           1         0        no                 no   no        yes     yes    yes       no       no       5          3       2     2     2       5         2  12  12  14\n",
            "74      GP  Female   16   Urban      Greater than 3            Living together                 3                 3      other   services        home   mother            1           2         0       yes                yes  yes        yes     yes    yes      yes       no       4          3       3     2     4       5        54  11  12  11\n",
            "75      GP    Male   15   Urban      Greater than 3            Living together                 4                 3    teacher      other        home   mother            1           2         0        no                yes  yes        yes     yes    yes      yes       no       4          3       3     2     3       5         6   9   9  10\n",
            "76      GP    Male   15   Urban      Greater than 3            Living together                 4                 0    teacher      other      course   mother            2           4         0        no                 no   no        yes     yes    yes      yes       no       3          4       3     1     1       1         8  11  11  10\n",
            "77      GP  Female   16   Urban      Greater than 3            Living together                 2                 2      other      other  reputation   mother            1           4         0        no                 no  yes         no     yes    yes      yes      yes       5          2       3     1     3       3         0  11  11  11\n",
            "78      GP    Male   17   Urban      Greater than 3            Living together                 2                 1      other      other        home   mother            2           1         3       yes                yes   no        yes     yes     no      yes       no       4          5       1     1     1       3         2   8   8  10\n",
            "79      GP  Female   16   Urban      Greater than 3            Living together                 3                 4    at_home      other      course   mother            1           2         0        no                yes   no         no     yes    yes      yes       no       2          4       3     1     2       3        12   5   5   5\n",
            "80      GP    Male   15   Urban      Greater than 3            Living together                 2                 3      other   services      course   father            1           1         0       yes                yes  yes        yes      no    yes      yes      yes       3          2       2     1     3       3         2  10  12  12\n",
            "81      GP    Male   15   Urban      Greater than 3            Living together                 2                 3      other      other        home   mother            1           3         0       yes                 no  yes         no      no    yes      yes       no       5          3       2     1     2       5         4  11  10  11\n",
            "82      GP  Female   15   Urban  Less or equal to 3            Living together                 3                 2   services      other  reputation   mother            1           2         0        no                yes  yes         no     yes    yes      yes       no       4          4       4     1     1       5        10   7   6   6\n",
            "83      GP    Male   15   Urban  Less or equal to 3            Living together                 2                 2   services   services        home   mother            2           2         0        no                 no  yes        yes     yes    yes      yes       no       5          3       3     1     3       4         4  15  15  15\n",
            "84      GP  Female   15   Urban      Greater than 3            Living together                 1                 1      other      other        home   father            1           2         0        no                yes   no        yes      no    yes      yes       no       4          3       2     2     3       4         2   9  10  10\n",
            "85      GP  Female   15   Urban      Greater than 3            Living together                 4                 4   services   services  reputation   father            2           2         2        no                 no  yes         no     yes    yes      yes      yes       4          4       4     2     3       5         6   7   9   8\n",
            "86      GP  Female   16   Urban  Less or equal to 3            Living together                 2                 2    at_home      other      course   mother            1           2         0        no                yes   no         no     yes    yes       no       no       4          3       4     1     2       2         4   8   7   6\n",
            "87      GP  Female   15   Urban      Greater than 3            Living together                 4                 2      other      other  reputation   mother            1           3         0        no                yes   no        yes     yes    yes      yes       no       5          3       3     1     3       1         4  13  14  14\n",
            "88      GP    Male   16   Urban      Greater than 3            Living together                 2                 2   services      other  reputation   father            2           2         1        no                 no  yes        yes      no    yes      yes       no       4          4       2     1     1       3        12  11  10  10\n",
            "89      GP    Male   16   Urban  Less or equal to 3                      Apart                 4                 4    teacher     health  reputation   mother            1           2         0        no                yes   no         no     yes    yes       no       no       4          1       3     3     5       5        18   8   6   7\n",
            "90      GP  Female   16   Urban      Greater than 3            Living together                 3                 3      other      other        home   mother            1           3         0        no                yes  yes         no     yes    yes      yes      yes       4          3       3     1     3       4         0   7   7   8\n",
            "91      GP  Female   15   Urban      Greater than 3            Living together                 4                 3   services      other  reputation   mother            1           1         0        no                 no  yes        yes     yes    yes      yes       no       4          5       5     1     3       1         4  16  17  18\n",
            "92      GP  Female   16   Urban  Less or equal to 3            Living together                 3                 1      other      other        home   father            1           2         0       yes                yes   no         no     yes    yes       no       no       3          3       3     2     3       2         4   7   6   6\n",
            "93      GP  Female   16   Urban      Greater than 3            Living together                 4                 2    teacher   services        home   mother            2           2         0        no                yes  yes        yes     yes    yes      yes       no       5          3       3     1     1       1         0  11  10  10\n",
            "94      GP    Male   15   Urban  Less or equal to 3            Living together                 2                 2   services     health  reputation   mother            1           4         0        no                yes   no        yes     yes    yes      yes       no       4          3       4     1     1       4         6  11  13  14\n",
            "95      GP  Female   15   Rural      Greater than 3            Living together                 1                 1    at_home      other        home   mother            2           4         1       yes                yes  yes        yes     yes    yes      yes       no       3          1       2     1     1       1         2   7  10  10\n",
            "96      GP    Male   16   Rural      Greater than 3            Living together                 4                 3   services      other  reputation   mother            2           1         0       yes                yes   no        yes      no    yes      yes       no       3          3       3     1     1       4         2  11  15  15\n",
            "97      GP  Female   16   Urban      Greater than 3            Living together                 2                 1      other      other      course   mother            1           2         0        no                yes  yes         no     yes    yes       no      yes       4          3       5     1     1       5         2   8   9  10\n",
            "98      GP  Female   16   Urban      Greater than 3            Living together                 4                 4      other      other  reputation   mother            1           1         0        no                 no   no        yes      no    yes      yes       no       5          3       4     1     2       1         6  11  14  14\n",
            "99      GP  Female   16   Urban      Greater than 3            Living together                 4                 3      other    at_home      course   mother            1           3         0       yes                yes  yes         no     yes    yes      yes       no       5          3       5     1     1       3         0   7   9   8\n",
            "100     GP    Male   16   Urban      Greater than 3            Living together                 4                 4   services   services       other   mother            1           1         0       yes                yes  yes        yes     yes    yes      yes       no       4          5       5     5     5       4        14   7   7   5\n",
            "101     GP    Male   16   Urban      Greater than 3            Living together                 4                 4   services    teacher       other   father            1           3         0        no                yes   no        yes     yes    yes      yes      yes       4          4       3     1     1       4         0  16  17  17\n",
            "102     GP    Male   15   Urban      Greater than 3            Living together                 4                 4   services      other      course   mother            1           1         0        no                yes   no        yes      no    yes      yes       no       5          3       3     1     1       5         4  10  13  14\n",
            "103     GP  Female   15   Urban      Greater than 3            Living together                 3                 2   services      other        home   mother            2           2         0       yes                yes  yes         no     yes    yes      yes       no       4          3       5     1     1       2        26   7   6   6\n",
            "104     GP    Male   15   Urban      Greater than 3                      Apart                 3                 4   services      other      course   mother            1           2         0        no                yes  yes        yes     yes    yes      yes       no       5          4       4     1     1       1         0  16  18  18\n",
            "105     GP  Female   15   Urban      Greater than 3                      Apart                 3                 3      other     health  reputation   father            1           4         0       yes                 no   no         no     yes    yes       no       no       4          3       3     1     1       4        10  10  11  11\n",
            "106     GP  Female   15   Urban      Greater than 3            Living together                 2                 2      other      other      course   mother            1           4         0       yes                yes  yes         no     yes    yes      yes       no       5          1       2     1     1       3         8   7   8   8\n",
            "107     GP    Male   16   Urban      Greater than 3            Living together                 3                 3   services      other        home   father            1           3         0        no                yes   no        yes     yes    yes      yes       no       5          3       3     1     1       5         2  16  18  18\n",
            "108     GP    Male   15   Rural      Greater than 3            Living together                 4                 4      other      other        home   father            4           4         0        no                yes  yes        yes     yes    yes      yes      yes       1          3       5     3     5       1         6  10  13  13\n",
            "109     GP  Female   16   Urban  Less or equal to 3            Living together                 4                 4     health     health       other   mother            1           3         0        no                yes  yes        yes     yes    yes      yes      yes       5          4       5     1     1       4         4  14  15  16\n",
            "110     GP    Male   15   Urban  Less or equal to 3                      Apart                 4                 4    teacher    teacher      course   mother            1           1         0        no                 no   no        yes     yes    yes      yes       no       5          5       3     1     1       4         6  18  19  19\n",
            "111     GP  Female   16   Rural      Greater than 3            Living together                 3                 3   services      other  reputation   father            1           3         1       yes                yes   no        yes     yes    yes      yes       no       4          1       2     1     1       2         0   7  10  10\n",
            "112     GP  Female   16   Urban      Greater than 3            Living together                 2                 2    at_home      other        home   mother            1           2         1       yes                 no   no        yes     yes    yes      yes       no       3          1       2     1     1       5         6  10  13  13\n",
            "113     GP    Male   15   Urban  Less or equal to 3            Living together                 4                 2    teacher      other      course   mother            1           1         0        no                 no   no         no     yes    yes      yes       no       3          5       2     1     1       3        10  18  19  19\n",
            "114     GP    Male   15   Rural      Greater than 3            Living together                 2                 1     health   services  reputation   mother            1           2         0        no                 no   no        yes     yes    yes      yes      yes       5          4       2     1     1       5         8   9   9   9\n",
            "115     GP    Male   16   Urban      Greater than 3            Living together                 4                 4    teacher    teacher      course   father            1           2         0        no                yes   no        yes     yes    yes      yes       no       5          4       4     1     2       5         2  15  15  16\n",
            "116     GP    Male   15   Urban      Greater than 3            Living together                 4                 4      other    teacher  reputation   father            2           2         0        no                yes   no        yes     yes    yes       no       no       4          4       3     1     1       2         2  11  13  14\n",
            "117     GP    Male   16   Urban      Greater than 3            Living together                 3                 3      other   services        home   father            2           1         0        no                 no   no        yes     yes    yes      yes       no       5          4       2     1     1       5         0  13  14  13\n",
            "118     GP    Male   17   Rural      Greater than 3            Living together                 1                 3      other      other      course   father            3           2         1        no                yes   no        yes     yes    yes      yes       no       5          2       4     1     4       5        20   9   7   8\n",
            "119     GP    Male   15   Urban      Greater than 3            Living together                 3                 4      other      other  reputation   father            1           1         0        no                 no   no         no     yes    yes      yes       no       3          4       3     1     2       4         6  14  13  13\n",
            "120     GP  Female   15   Urban      Greater than 3            Living together                 1                 2    at_home   services      course   mother            1           2         0        no                 no   no         no      no    yes      yes       no       3          2       3     1     2       1         2  16  15  15\n",
            "121     GP    Male   15   Urban      Greater than 3            Living together                 2                 2   services   services        home   father            1           4         0        no                yes  yes        yes     yes    yes      yes       no       5          5       4     1     2       5         6  16  14  15\n",
            "122     GP  Female   16   Urban  Less or equal to 3            Living together                 2                 4      other     health      course   father            2           2         0        no                yes  yes        yes     yes    yes      yes      yes       4          2       2     1     2       5         2  13  13  13\n",
            "123     GP    Male   16   Urban      Greater than 3            Living together                 4                 4     health      other      course   mother            1           1         0        no                yes   no        yes     yes    yes      yes       no       3          4       4     1     4       5        18  14  11  13\n",
            "124     GP  Female   16   Urban      Greater than 3            Living together                 2                 2      other      other        home   mother            1           2         0        no                 no  yes         no     yes    yes      yes      yes       5          4       4     1     1       5         0   8   7   8\n",
            "125     GP    Male   15   Urban      Greater than 3            Living together                 3                 4   services   services        home   father            1           1         0       yes                 no   no         no     yes    yes      yes       no       5          5       5     3     2       5         0  13  13  12\n",
            "126     GP  Female   15   Urban  Less or equal to 3                      Apart                 3                 4      other      other        home   mother            1           2         0       yes                 no   no        yes     yes    yes      yes      yes       5          3       2     1     1       1         0   7  10  11\n",
            "127     GP  Female   19   Urban      Greater than 3            Living together                 0                 1    at_home      other      course    other            1           2         3        no                yes   no         no      no     no       no       no       3          4       2     1     1       5         2   7   8   9\n",
            "128     GP    Male   18   Rural      Greater than 3            Living together                 2                 2   services      other  reputation   mother            1           1         2        no                yes   no        yes     yes    yes      yes       no       3          3       3     1     2       4         0   7   4   0\n",
            "129     GP    Male   16   Rural      Greater than 3            Living together                 4                 4    teacher    teacher      course   mother            1           1         0        no                 no  yes        yes     yes    yes      yes       no       3          5       5     2     5       4         8  18  18  18\n",
            "130     GP  Female   15   Rural      Greater than 3            Living together                 3                 4   services    teacher      course   father            2           3         2        no                yes   no         no     yes    yes      yes      yes       4          2       2     2     2       5         0  12   0   0\n",
            "131     GP  Female   15   Urban      Greater than 3            Living together                 1                 1    at_home      other      course   mother            3           1         0        no                yes   no        yes      no    yes      yes      yes       4          3       3     1     2       4         0   8   0   0\n",
            "132     GP  Female   17   Urban  Less or equal to 3            Living together                 2                 2      other      other      course   father            1           1         0        no                yes   no         no     yes    yes      yes      yes       3          4       4     1     3       5        12  10  13  12\n",
            "133     GP  Female   16   Urban      Greater than 3                      Apart                 3                 4   services      other      course   father            1           1         0        no                 no   no         no     yes    yes      yes       no       3          2       1     1     4       5        16  12  11  11\n",
            "134     GP    Male   15   Rural      Greater than 3            Living together                 3                 4    at_home    teacher      course   mother            4           2         0        no                yes   no         no     yes    yes       no      yes       5          3       3     1     1       5         0   9   0   0\n",
            "135     GP  Female   15   Urban      Greater than 3            Living together                 4                 4   services    at_home      course   mother            1           3         0        no                yes   no        yes     yes    yes      yes      yes       4          3       3     1     1       5         0  11   0   0\n",
            "136     GP    Male   17   Rural      Greater than 3            Living together                 3                 4    at_home      other      course   mother            3           2         0        no                 no   no         no     yes    yes       no       no       5          4       5     2     4       5         0  10   0   0\n",
            "137     GP  Female   16   Urban      Greater than 3                      Apart                 3                 3      other      other      course    other            2           1         2        no                yes   no        yes      no    yes      yes      yes       4          3       2     1     1       5         0   4   0   0\n",
            "138     GP    Male   16   Urban  Less or equal to 3            Living together                 1                 1   services      other      course   mother            1           2         1        no                 no   no         no     yes    yes       no      yes       4          4       4     1     3       5         0  14  12  12\n",
            "139     GP  Female   15   Urban      Greater than 3            Living together                 4                 4    teacher    teacher      course   mother            2           1         0        no                 no   no        yes     yes    yes      yes       no       4          3       2     1     1       5         0  16  16  15\n",
            "140     GP    Male   15   Urban      Greater than 3            Living together                 4                 3    teacher   services      course   father            2           4         0       yes                yes   no         no     yes    yes      yes       no       2          2       2     1     1       3         0   7   9   0\n",
            "141     GP    Male   16   Urban  Less or equal to 3            Living together                 2                 2   services   services  reputation   father            2           1         2        no                yes   no        yes     yes    yes      yes       no       2          3       3     2     2       2         8   9   9   9\n",
            "142     GP  Female   15   Urban      Greater than 3            Living together                 4                 4    teacher   services      course   mother            1           3         0        no                yes  yes        yes     yes    yes      yes       no       4          2       2     1     1       5         2   9  11  11\n",
            "143     GP  Female   16   Urban  Less or equal to 3            Living together                 1                 1    at_home    at_home      course   mother            1           1         0        no                 no   no         no     yes    yes      yes       no       3          4       4     3     3       1         2  14  14  13\n",
            "144     GP    Male   17   Urban      Greater than 3            Living together                 2                 1      other      other        home   mother            1           1         3        no                yes   no         no     yes    yes      yes       no       5          4       5     1     2       5         0   5   0   0\n",
            "145     GP  Female   15   Urban      Greater than 3            Living together                 1                 1      other   services      course   father            1           2         0        no                yes  yes         no     yes    yes      yes       no       4          4       2     1     2       5         0   8  11  11\n",
            "146     GP  Female   15   Urban      Greater than 3            Living together                 3                 2     health   services        home   father            1           2         3        no                yes   no         no     yes    yes      yes       no       3          3       2     1     1       3         0   6   7   0\n",
            "147     GP  Female   15   Urban      Greater than 3            Living together                 1                 2    at_home      other      course   mother            1           2         0        no                yes  yes         no      no    yes      yes       no       4          3       2     1     1       5         2  10  11  11\n",
            "148     GP    Male   16   Urban      Greater than 3            Living together                 4                 4    teacher    teacher      course   mother            1           1         0        no                yes   no         no     yes     no      yes      yes       3          3       2     2     1       5         0   7   6   0\n",
            "149     GP    Male   15   Urban  Less or equal to 3                      Apart                 2                 1   services      other      course   mother            4           1         3        no                 no   no         no     yes    yes      yes       no       4          5       5     2     5       5         0   8   9  10\n",
            "150     GP    Male   18   Urban  Less or equal to 3            Living together                 1                 1      other      other      course   mother            1           1         3        no                 no   no         no     yes     no      yes      yes       2          3       5     2     5       4         0   6   5   0\n",
            "151     GP    Male   16   Urban  Less or equal to 3            Living together                 2                 1    at_home      other      course   mother            1           1         1        no                 no   no        yes     yes    yes       no      yes       4          4       4     3     5       5         6  12  13  14\n",
            "152     GP  Female   15   Rural      Greater than 3            Living together                 3                 3   services   services  reputation    other            2           3         2        no                yes  yes        yes     yes    yes      yes      yes       4          2       1     2     3       3         8  10  10  10\n",
            "153     GP    Male   19   Urban      Greater than 3            Living together                 3                 2   services    at_home        home   mother            1           1         3        no                yes   no         no     yes     no      yes      yes       4          5       4     1     1       4         0   5   0   0\n",
            "154     GP  Female   17   Urban      Greater than 3            Living together                 4                 4      other    teacher      course   mother            1           1         0       yes                yes   no         no     yes    yes       no      yes       4          2       1     1     1       4         0  11  11  12\n",
            "155     GP    Male   15   Rural      Greater than 3            Living together                 2                 3    at_home   services      course   mother            1           2         0       yes                 no  yes        yes     yes    yes       no       no       4          4       4     1     1       1         2  11   8   8\n",
            "156     GP    Male   17   Rural  Less or equal to 3            Living together                 1                 2      other      other  reputation   mother            1           1         0        no                 no   no         no     yes    yes       no       no       2          2       2     3     3       5         8  16  12  13\n",
            "157     GP  Female   18   Rural      Greater than 3            Living together                 1                 1    at_home      other      course   mother            3           1         3        no                yes   no        yes      no    yes       no       no       5          2       5     1     5       4         6   9   8  10\n",
            "158     GP    Male   16   Rural      Greater than 3            Living together                 2                 2    at_home      other      course   mother            3           1         0        no                 no   no         no      no    yes       no       no       4          2       2     1     2       3         2  17  15  15\n",
            "159     GP    Male   16   Urban      Greater than 3            Living together                 3                 3      other   services      course   father            1           2         1        no                yes  yes         no     yes    yes      yes      yes       4          5       5     4     4       5         4  10  12  12\n",
            "160     GP    Male   17   Rural  Less or equal to 3            Living together                 2                 1    at_home      other      course   mother            2           1         2        no                 no   no        yes     yes     no      yes      yes       3          3       2     2     2       5         0   7   6   0\n",
            "161     GP    Male   15   Rural      Greater than 3            Living together                 3                 2      other      other      course   mother            2           2         2       yes                yes   no         no     yes    yes      yes      yes       4          4       4     1     4       3         6   5   9   7\n",
            "162     GP    Male   16   Urban  Less or equal to 3            Living together                 1                 2      other      other      course   mother            2           1         1        no                 no   no        yes     yes    yes       no       no       4          4       4     2     4       5         0   7   0   0\n",
            "163     GP    Male   17   Urban      Greater than 3            Living together                 1                 3    at_home   services      course   father            1           1         0        no                 no   no         no     yes     no      yes       no       5          3       3     1     4       2         2  10  10  10\n",
            "164     GP    Male   17   Rural  Less or equal to 3            Living together                 1                 1      other   services      course   mother            4           2         3        no                 no   no        yes     yes     no       no      yes       5          3       5     1     5       5         0   5   8   7\n",
            "165     GP    Male   16   Urban      Greater than 3            Living together                 3                 2   services   services      course   mother            2           1         1        no                yes   no        yes      no     no       no       no       4          5       2     1     1       2        16  12  11  12\n",
            "166     GP    Male   16   Urban      Greater than 3            Living together                 2                 2      other      other      course   father            1           2         0        no                 no   no         no     yes     no      yes       no       4          3       5     2     4       4         4  10  10  10\n",
            "167     GP  Female   16   Urban      Greater than 3            Living together                 4                 2     health   services        home   father            1           2         0        no                 no  yes         no     yes    yes      yes      yes       4          2       3     1     1       3         0  14  15  16\n",
            "168     GP  Female   16   Urban      Greater than 3            Living together                 2                 2      other      other        home   mother            1           2         0        no                yes  yes         no      no    yes      yes       no       5          1       5     1     1       4         0   6   7   0\n",
            "169     GP  Female   16   Urban      Greater than 3            Living together                 4                 4     health     health  reputation   mother            1           2         0        no                yes  yes         no     yes    yes      yes      yes       4          4       2     1     1       3         0  14  14  14\n",
            "170     GP    Male   16   Urban      Greater than 3            Living together                 3                 4      other      other      course   father            3           1         2        no                yes   no        yes      no    yes      yes       no       3          4       5     2     4       2         0   6   5   0\n",
            "171     GP    Male   16   Urban      Greater than 3            Living together                 1                 0      other      other  reputation   mother            2           2         0        no                yes  yes        yes     yes    yes      yes      yes       4          3       2     1     1       3         2  13  15  16\n",
            "172     GP    Male   17   Urban  Less or equal to 3            Living together                 4                 4    teacher      other  reputation   mother            1           2         0        no                yes  yes        yes     yes    yes      yes       no       4          4       4     1     3       5         0  13  11  10\n",
            "173     GP  Female   16   Urban      Greater than 3            Living together                 1                 3    at_home   services        home   mother            1           2         3        no                 no   no        yes      no    yes      yes      yes       4          3       5     1     1       3         0   8   7   0\n",
            "174     GP  Female   16   Urban  Less or equal to 3            Living together                 3                 3      other      other  reputation   mother            2           2         0        no                yes  yes        yes     yes    yes      yes       no       4          4       5     1     1       4         4  10  11   9\n",
            "175     GP    Male   17   Urban  Less or equal to 3            Living together                 4                 3    teacher      other      course   mother            2           2         0        no                 no  yes        yes     yes    yes      yes       no       4          4       4     4     4       4         4  10   9   9\n",
            "176     GP  Female   16   Urban      Greater than 3            Living together                 2                 2   services      other  reputation   mother            2           2         0        no                 no  yes        yes      no    yes      yes       no       3          4       4     1     4       5         2  13  13  11\n",
            "177     GP    Male   17   Urban      Greater than 3            Living together                 3                 3      other      other  reputation   father            1           2         0        no                 no   no        yes      no    yes      yes       no       4          3       4     1     4       4         4   6   5   6\n",
            "178     GP    Male   16   Rural      Greater than 3            Living together                 4                 2    teacher   services       other   mother            1           1         0        no                yes   no        yes     yes    yes      yes      yes       4          3       3     3     4       3        10  10   8   9\n",
            "179     GP    Male   17   Urban      Greater than 3            Living together                 4                 3      other      other      course   mother            1           2         0        no                yes   no        yes     yes    yes      yes      yes       5          2       3     1     1       2         4  10  10  11\n",
            "180     GP    Male   16   Urban      Greater than 3            Living together                 4                 3    teacher      other        home   mother            1           2         0        no                yes  yes        yes     yes    yes      yes       no       3          4       3     2     3       3        10   9   8   8\n",
            "181     GP    Male   16   Urban      Greater than 3            Living together                 3                 3   services      other        home   mother            1           2         0        no                 no  yes        yes     yes    yes      yes      yes       4          2       3     1     2       3         2  12  13  12\n",
            "182     GP  Female   17   Urban      Greater than 3            Living together                 2                 4   services   services  reputation   father            1           2         0        no                yes   no        yes     yes    yes       no       no       5          4       2     2     3       5         0  16  17  17\n",
            "183     GP  Female   17   Urban  Less or equal to 3            Living together                 3                 3      other      other  reputation   mother            1           2         0        no                yes   no        yes     yes    yes      yes      yes       5          3       3     2     3       1        56   9   9   8\n",
            "184     GP  Female   16   Urban      Greater than 3            Living together                 3                 2      other      other  reputation   mother            1           2         0        no                yes  yes         no     yes    yes      yes       no       1          2       2     1     2       1        14  12  13  12\n",
            "185     GP    Male   17   Urban      Greater than 3            Living together                 3                 3   services   services       other   mother            1           2         0        no                yes   no        yes     yes    yes      yes      yes       4          3       4     2     3       4        12  12  12  11\n",
            "186     GP    Male   16   Urban      Greater than 3            Living together                 1                 2   services   services       other   mother            1           1         0        no                yes  yes        yes     yes    yes      yes      yes       3          3       3     1     2       3         2  11  12  11\n",
            "187     GP    Male   16   Urban  Less or equal to 3            Living together                 2                 1      other      other      course   mother            1           2         0        no                 no  yes        yes     yes    yes      yes      yes       4          2       3     1     2       5         0  15  15  15\n",
            "188     GP  Female   17   Urban      Greater than 3                      Apart                 3                 3     health      other  reputation   mother            1           2         0        no                yes   no         no      no    yes      yes      yes       3          3       3     1     3       3         6   8   7   9\n",
            "189     GP    Male   17   Rural      Greater than 3            Living together                 1                 2    at_home      other        home   mother            1           2         0        no                 no   no         no     yes    yes       no       no       3          1       3     1     5       3         4   8   9  10\n",
            "190     GP  Female   16   Urban      Greater than 3            Living together                 2                 3   services   services      course   mother            1           2         0        no                 no   no         no     yes    yes      yes       no       4          3       3     1     1       2        10  11  12  13\n",
            "191     GP  Female   17   Urban      Greater than 3            Living together                 1                 1    at_home   services      course   mother            1           2         0        no                 no   no        yes     yes    yes      yes       no       5          3       3     1     1       3         0   8   8   9\n",
            "192     GP    Male   17   Urban      Greater than 3            Living together                 1                 2    at_home   services       other    other            2           2         0        no                 no  yes        yes      no    yes      yes       no       4          4       4     4     5       5        12   7   8   8\n",
            "193     GP    Male   16   Rural      Greater than 3            Living together                 3                 3   services   services  reputation   mother            1           1         0        no                yes   no        yes     yes    yes      yes       no       4          3       2     3     4       5         8   8   9  10\n",
            "194     GP    Male   16   Urban      Greater than 3            Living together                 2                 3      other      other        home   father            2           1         0        no                 no   no         no     yes    yes      yes       no       5          3       3     1     1       3         0  13  14  14\n",
            "195     GP  Female   17   Urban  Less or equal to 3            Living together                 2                 4   services   services      course   father            1           2         0        no                 no   no        yes     yes    yes      yes      yes       4          3       2     1     1       5         0  14  15  15\n",
            "196     GP    Male   17   Urban      Greater than 3            Living together                 4                 4   services    teacher        home   mother            1           1         0        no                 no   no         no     yes    yes      yes       no       5          2       3     1     2       5         4  17  15  16\n",
            "197     GP    Male   16   Rural  Less or equal to 3            Living together                 3                 3    teacher      other        home   father            3           1         0        no                yes  yes        yes     yes    yes      yes       no       3          3       4     3     5       3         8   9   9  10\n",
            "198     GP  Female   17   Urban      Greater than 3            Living together                 4                 4   services    teacher        home   mother            2           1         1        no                yes   no         no     yes    yes      yes       no       4          2       4     2     3       2        24  18  18  18\n",
            "199     GP  Female   16   Urban  Less or equal to 3            Living together                 4                 4    teacher    teacher  reputation   mother            1           2         0        no                yes  yes         no     yes    yes      yes       no       4          5       2     1     2       3         0   9   9  10\n",
            "200     GP  Female   16   Urban      Greater than 3            Living together                 4                 3     health      other        home   mother            1           2         0        no                yes   no        yes     yes    yes      yes       no       4          3       5     1     5       2         2  16  16  16\n",
            "201     GP  Female   16   Urban      Greater than 3            Living together                 2                 3      other      other  reputation   mother            1           2         0       yes                yes  yes        yes     yes    yes       no       no       4          4       3     1     3       4         6   8  10  10\n",
            "202     GP  Female   17   Urban      Greater than 3            Living together                 1                 1      other      other      course   mother            1           2         0        no                yes  yes         no      no    yes       no       no       4          4       4     1     3       1         4   9   9  10\n",
            "203     GP  Female   17   Rural      Greater than 3            Living together                 2                 2      other      other  reputation   mother            1           1         0        no                yes   no         no     yes    yes      yes       no       5          3       2     1     2       3        18   7   6   6\n",
            "204     GP  Female   16   Rural      Greater than 3            Living together                 2                 2   services   services  reputation   mother            2           4         0        no                yes  yes        yes      no    yes      yes       no       5          3       5     1     1       5         6  10  10  11\n",
            "205     GP  Female   17   Urban      Greater than 3            Living together                 3                 4    at_home   services        home   mother            1           3         1        no                yes  yes         no     yes    yes      yes      yes       4          4       3     3     4       5        28  10   9   9\n",
            "206     GP  Female   16   Urban      Greater than 3                      Apart                 3                 1   services      other      course   mother            1           2         3        no                yes  yes         no     yes    yes      yes       no       2          3       3     2     2       4         5   7   7   7\n",
            "207     GP  Female   16   Urban      Greater than 3            Living together                 4                 3    teacher      other       other   mother            1           2         0        no                 no  yes        yes     yes    yes      yes      yes       1          3       2     1     1       1        10  11  12  13\n",
            "208     GP  Female   16   Urban      Greater than 3            Living together                 1                 1    at_home      other        home   mother            2           1         0        no                yes  yes         no     yes    yes       no       no       4          3       2     1     4       5         6   9   9  10\n",
            "209     GP  Female   17   Rural      Greater than 3            Living together                 4                 3    teacher      other  reputation   mother            2           3         0        no                yes  yes        yes     yes    yes      yes      yes       4          4       2     1     1       4         6   7   7   7\n",
            "210     GP  Female   19   Urban      Greater than 3            Living together                 3                 3      other      other  reputation    other            1           4         0        no                yes  yes        yes     yes    yes      yes       no       4          3       3     1     2       3        10   8   8   8\n",
            "211     GP    Male   17   Urban  Less or equal to 3            Living together                 4                 4   services      other        home   mother            1           2         0        no                yes  yes         no     yes    yes      yes      yes       5          3       5     4     5       3        13  12  12  13\n",
            "212     GP  Female   16   Urban      Greater than 3                      Apart                 2                 2      other      other  reputation   mother            1           2         0       yes                yes  yes         no     yes    yes      yes       no       3          3       4     1     1       4         0  12  13  14\n",
            "213     GP    Male   18   Urban      Greater than 3            Living together                 2                 2   services      other        home   mother            1           2         1        no                yes  yes        yes     yes    yes      yes       no       4          4       4     2     4       5        15   6   7   8\n",
            "214     GP  Female   17   Rural  Less or equal to 3            Living together                 4                 4   services      other       other   mother            1           1         0        no                yes  yes         no     yes    yes       no       no       5          2       1     1     2       3        12   8  10  10\n",
            "215     GP  Female   17   Urban  Less or equal to 3            Living together                 3                 2      other      other  reputation   mother            2           2         0        no                 no  yes         no     yes    yes      yes       no       4          4       4     1     3       1         2  14  15  15\n",
            "216     GP  Female   17   Urban      Greater than 3            Living together                 4                 3      other      other  reputation   mother            1           2         2        no                 no  yes         no     yes    yes      yes      yes       3          4       5     2     4       1        22   6   6   4\n",
            "217     GP    Male   18   Urban  Less or equal to 3            Living together                 3                 3   services     health        home   father            1           2         1        no                yes  yes         no     yes    yes      yes       no       3          2       4     2     4       4        13   6   6   8\n",
            "218     GP  Female   17   Urban      Greater than 3            Living together                 2                 3    at_home      other        home   father            2           1         0        no                yes  yes         no     yes    yes       no       no       3          3       3     1     4       3         3   7   7   8\n",
            "219     GP  Female   17   Urban      Greater than 3            Living together                 2                 2    at_home    at_home      course   mother            1           3         0        no                yes  yes        yes     yes    yes      yes       no       4          3       3     1     1       4         4   9  10  10\n",
            "220     GP  Female   17   Rural      Greater than 3            Living together                 2                 1    at_home   services  reputation   mother            2           2         0        no                yes   no        yes     yes    yes      yes       no       4          2       5     1     2       5         2   6   6   6\n",
            "221     GP  Female   17   Urban      Greater than 3            Living together                 1                 1    at_home      other  reputation   mother            1           3         1        no                yes   no        yes     yes    yes       no      yes       4          3       4     1     1       5         0   6   5   0\n",
            "222     GP  Female   16   Urban      Greater than 3            Living together                 2                 3   services    teacher       other   mother            1           2         0       yes                 no   no         no     yes    yes      yes       no       2          3       1     1     1       3         2  16  16  17\n",
            "223     GP    Male   18   Urban      Greater than 3            Living together                 2                 2      other      other        home   mother            2           2         0        no                yes  yes         no     yes    yes      yes       no       3          3       3     5     5       4         0  12  13  13\n",
            "224     GP  Female   16   Urban      Greater than 3            Living together                 4                 4    teacher   services        home   mother            1           3         0        no                yes   no        yes      no    yes      yes       no       5          3       2     1     1       5         0  13  13  14\n",
            "225     GP  Female   18   Rural      Greater than 3            Living together                 3                 1      other      other  reputation   mother            1           2         1        no                 no   no        yes     yes    yes      yes      yes       5          3       3     1     1       4        16   9   8   7\n",
            "226     GP  Female   17   Urban      Greater than 3            Living together                 3                 2      other      other      course   mother            1           2         0        no                 no   no        yes      no    yes      yes       no       5          3       4     1     3       3        10  16  15  15\n",
            "227     GP    Male   17   Urban  Less or equal to 3            Living together                 2                 3   services   services  reputation   father            1           2         0        no                yes  yes         no      no    yes      yes       no       5          3       3     1     3       3         2  12  11  12\n",
            "228     GP    Male   18   Urban  Less or equal to 3            Living together                 2                 1    at_home      other      course   mother            4           2         0       yes                yes  yes        yes     yes    yes      yes      yes       4          3       2     4     5       3        14  10   8   9\n",
            "229     GP  Female   17   Urban      Greater than 3                      Apart                 2                 1      other      other      course   mother            2           3         0        no                 no   no        yes     yes    yes      yes      yes       3          2       3     1     2       3        10  12  10  12\n",
            "230     GP  Female   17   Urban  Less or equal to 3            Living together                 4                 3     health      other  reputation   father            1           2         0        no                 no   no        yes     yes    yes      yes      yes       3          2       3     1     2       3        14  13  13  14\n",
            "231     GP    Male   17   Rural      Greater than 3            Living together                 2                 2      other      other      course   father            2           2         0        no                yes  yes        yes     yes    yes      yes       no       4          5       2     1     1       1         4  11  11  11\n",
            "232     GP    Male   17   Urban      Greater than 3            Living together                 4                 4    teacher    teacher  reputation   mother            1           2         0       yes                yes   no        yes     yes    yes      yes      yes       4          5       5     1     3       2        14  11   9   9\n",
            "233     GP    Male   16   Urban      Greater than 3            Living together                 4                 4     health      other  reputation   father            1           2         0        no                yes  yes        yes     yes    yes      yes       no       4          2       4     2     4       1         2  14  13  13\n",
            "234     GP    Male   16   Urban  Less or equal to 3            Living together                 1                 1      other      other        home   mother            2           2         0        no                yes  yes         no     yes    yes      yes       no       3          4       2     1     1       5        18   9   7   6\n",
            "235     GP    Male   16   Urban      Greater than 3            Living together                 3                 2    at_home      other  reputation   mother            2           3         0        no                 no   no        yes     yes    yes      yes      yes       5          3       3     1     3       2        10  11   9  10\n",
            "236     GP    Male   17   Urban  Less or equal to 3            Living together                 2                 2      other      other        home   father            1           2         0        no                 no  yes        yes      no    yes      yes      yes       4          4       2     5     5       4         4  14  13  13\n",
            "237     GP  Female   16   Urban      Greater than 3            Living together                 2                 1      other      other        home   mother            1           1         0        no                 no   no         no     yes    yes      yes      yes       4          5       2     1     1       5        20  13  12  12\n",
            "238     GP  Female   17   Rural      Greater than 3            Living together                 2                 1    at_home   services      course   mother            3           2         0        no                 no   no        yes     yes    yes       no       no       2          1       1     1     1       3         2  13  11  11\n",
            "239     GP    Male   18   Urban      Greater than 3            Living together                 2                 2      other   services  reputation   father            1           2         1        no                 no   no         no     yes     no      yes       no       5          5       4     3     5       2         0   7   7   0\n",
            "240     GP    Male   17   Urban  Less or equal to 3            Living together                 4                 3     health      other      course   mother            2           2         0        no                 no   no        yes     yes    yes      yes      yes       2          5       5     1     4       5        14  12  12  12\n",
            "241     GP    Male   17   Rural  Less or equal to 3                      Apart                 4                 4    teacher      other      course   mother            2           2         0        no                yes  yes         no     yes    yes      yes       no       3          3       3     2     3       4         2  10  11  12\n",
            "242     GP    Male   16   Urban  Less or equal to 3            Living together                 4                 3    teacher      other      course   mother            1           1         0        no                 no   no        yes      no    yes      yes       no       5          4       5     1     1       3         0   6   0   0\n",
            "243     GP    Male   16   Urban      Greater than 3            Living together                 4                 4   services   services      course   mother            1           1         0        no                 no   no        yes     yes    yes      yes       no       5          3       2     1     2       5         0  13  12  12\n",
            "244     GP  Female   18   Urban      Greater than 3            Living together                 2                 1      other      other      course    other            2           3         0        no                yes  yes         no      no    yes      yes      yes       4          4       4     1     1       3         0   7   0   0\n",
            "245     GP    Male   16   Urban      Greater than 3            Living together                 2                 1      other      other      course   mother            3           1         0        no                 no   no         no     yes    yes      yes       no       4          3       3     1     1       4         6  18  18  18\n",
            "246     GP    Male   17   Urban      Greater than 3            Living together                 2                 3      other      other      course   father            2           1         0        no                 no   no         no     yes    yes      yes       no       5          2       2     1     1       2         4  12  12  13\n",
            "247     GP    Male   22   Urban      Greater than 3            Living together                 3                 1   services   services       other   mother            1           1         3        no                 no   no         no      no     no      yes      yes       5          4       5     5     5       1        16   6   8   8\n",
            "248     GP    Male   18   Rural  Less or equal to 3            Living together                 3                 3      other   services      course   mother            1           2         1        no                yes   no         no     yes    yes      yes      yes       4          3       3     1     3       5         8   3   5   5\n",
            "249     GP    Male   16   Urban      Greater than 3            Living together                 0                 2      other      other       other   mother            1           1         0        no                 no  yes         no      no    yes      yes       no       4          3       2     2     4       5         0  13  15  15\n",
            "250     GP    Male   18   Urban      Greater than 3            Living together                 3                 2   services      other      course   mother            2           1         1        no                 no   no         no     yes     no      yes       no       4          4       5     2     4       5         0   6   8   8\n",
            "251     GP    Male   16   Urban      Greater than 3            Living together                 3                 3    at_home      other  reputation    other            3           2         0       yes                yes   no         no      no    yes      yes       no       5          3       3     1     3       2         6   7  10  10\n",
            "252     GP    Male   18   Urban      Greater than 3            Living together                 2                 1   services   services       other   mother            1           1         1        no                 no   no         no      no     no      yes       no       3          2       5     2     5       5         4   6   9   8\n",
            "253     GP    Male   16   Rural      Greater than 3            Living together                 2                 1      other      other      course   mother            2           1         0        no                 no   no        yes      no    yes       no       no       3          3       2     1     3       3         0   8   9   8\n",
            "254     GP    Male   17   Rural      Greater than 3            Living together                 2                 1      other      other      course   mother            1           1         0        no                 no   no         no      no    yes      yes       no       4          4       2     2     4       5         0   8  12  12\n",
            "255     GP    Male   17   Urban  Less or equal to 3            Living together                 1                 1     health      other      course   mother            2           1         1        no                yes   no        yes     yes    yes      yes       no       4          4       4     1     2       5         2   7   9   8\n",
            "256     GP  Female   17   Urban  Less or equal to 3            Living together                 4                 2    teacher   services  reputation   mother            1           4         0        no                yes  yes        yes     yes    yes      yes       no       4          2       3     1     1       4         6  14  12  13\n",
            "257     GP    Male   19   Urban  Less or equal to 3                      Apart                 4                 3   services    at_home  reputation   mother            1           2         0        no                yes   no         no     yes    yes      yes       no       4          3       1     1     1       1        12  11  11  11\n",
            "258     GP    Male   18   Urban      Greater than 3            Living together                 2                 1      other      other        home   mother            1           2         0        no                 no   no        yes     yes    yes      yes       no       5          2       4     1     2       4         8  15  14  14\n",
            "259     GP  Female   17   Urban  Less or equal to 3            Living together                 2                 2   services   services      course   father            1           4         0        no                 no  yes        yes     yes    yes      yes      yes       3          4       1     1     1       2         0  10   9   0\n",
            "260     GP  Female   18   Urban      Greater than 3            Living together                 4                 3   services      other        home   father            1           2         0        no                yes  yes         no     yes    yes      yes      yes       3          1       2     1     3       2        21  17  18  18\n",
            "261     GP    Male   18   Urban      Greater than 3            Living together                 4                 3    teacher      other      course   mother            1           2         0        no                yes  yes         no      no    yes      yes       no       4          3       2     1     1       3         2   8   8   8\n",
            "262     GP    Male   18   Rural      Greater than 3            Living together                 3                 2      other      other      course   mother            1           3         0        no                 no   no        yes      no    yes       no       no       5          3       2     1     1       3         1  13  12  12\n",
            "263     GP  Female   17   Urban      Greater than 3            Living together                 3                 3      other      other        home   mother            1           3         0        no                 no   no        yes      no    yes       no       no       3          2       3     1     1       4         4  10   9   9\n",
            "264     GP  Female   18   Urban      Greater than 3            Living together                 2                 2    at_home   services        home   mother            1           3         0        no                yes  yes        yes     yes    yes      yes      yes       4          3       3     1     1       3         0   9  10   0\n",
            "265     GP    Male   18   Rural  Less or equal to 3                      Apart                 3                 4      other      other  reputation   mother            2           2         0        no                yes  yes        yes     yes    yes      yes       no       4          2       5     3     4       1        13  17  17  17\n",
            "266     GP    Male   17   Urban      Greater than 3            Living together                 3                 1   services      other       other   mother            1           2         0        no                 no  yes        yes     yes    yes      yes      yes       5          4       4     3     4       5         2   9   9  10\n",
            "267     GP  Female   18   Rural      Greater than 3            Living together                 4                 4    teacher      other  reputation   mother            2           2         0        no                 no  yes        yes     yes    yes      yes       no       4          3       4     2     2       4         8  12  10  11\n",
            "268     GP    Male   18   Urban      Greater than 3            Living together                 4                 2     health      other  reputation   father            1           2         0        no                yes  yes        yes     yes    yes      yes      yes       5          4       5     1     3       5        10  10   9  10\n",
            "269     GP  Female   18   Rural      Greater than 3            Living together                 2                 1      other      other  reputation   mother            2           2         0        no                yes   no         no     yes     no      yes      yes       4          3       5     1     2       3         0   6   0   0\n",
            "270     GP  Female   19   Urban      Greater than 3            Living together                 3                 3      other   services        home    other            1           2         2        no                yes  yes        yes     yes    yes      yes       no       4          3       5     3     3       5        15   9   9   9\n",
            "271     GP  Female   18   Urban      Greater than 3            Living together                 2                 3      other   services  reputation   father            1           4         0        no                yes  yes        yes     yes    yes      yes      yes       4          5       5     1     3       2         4  15  14  14\n",
            "272     GP  Female   18   Urban  Less or equal to 3            Living together                 1                 1      other      other        home   mother            2           2         0        no                yes  yes         no      no    yes       no       no       4          4       3     1     1       3         2  11  11  11\n",
            "273     GP    Male   17   Rural      Greater than 3            Living together                 1                 2    at_home    at_home        home   mother            1           2         0        no                yes  yes        yes      no    yes       no      yes       3          5       2     2     2       1         2  15  14  14\n",
            "274     GP  Female   17   Urban      Greater than 3            Living together                 2                 4    at_home     health  reputation   mother            2           2         0        no                yes  yes         no     yes    yes      yes      yes       4          3       3     1     1       1         2  10  10  10\n",
            "275     GP  Female   17   Urban  Less or equal to 3            Living together                 2                 2   services      other      course   mother            2           2         0       yes                yes  yes         no     yes    yes      yes      yes       4          4       4     2     3       5         6  12  12  12\n",
            "276     GP  Female   18   Rural      Greater than 3                      Apart                 3                 2      other   services        home   mother            2           2         0        no                 no   no         no      no     no      yes      yes       4          1       1     1     1       5        75  10   9   9\n",
            "277     GP    Male   18   Urban      Greater than 3            Living together                 4                 4    teacher   services        home   mother            2           1         0        no                 no  yes        yes     yes    yes      yes       no       3          2       4     1     4       3        22   9   9   9\n",
            "278     GP  Female   18   Urban      Greater than 3            Living together                 4                 4     health     health  reputation   father            1           2         1       yes                yes   no        yes     yes    yes      yes      yes       2          4       4     1     1       4        15   9   8   8\n",
            "279     GP    Male   18   Urban  Less or equal to 3            Living together                 4                 3    teacher   services      course   mother            2           1         0        no                 no  yes        yes     yes    yes      yes       no       4          2       3     1     2       1         8  10  11  10\n",
            "280     GP    Male   17   Urban  Less or equal to 3                      Apart                 4                 1   services      other        home   mother            2           1         0        no                 no  yes        yes     yes    yes      yes      yes       4          5       4     2     4       5        30   8   8   8\n",
            "281     GP    Male   17   Urban  Less or equal to 3                      Apart                 3                 2    teacher   services        home   mother            1           1         1        no                 no   no         no     yes    yes      yes       no       4          4       4     3     4       3        19  11   9  10\n",
            "282     GP  Female   18   Rural  Less or equal to 3            Living together                 1                 1    at_home      other  reputation   mother            2           4         0        no                yes  yes        yes     yes    yes       no       no       5          2       2     1     1       3         1  12  12  12\n",
            "283     GP  Female   18   Urban      Greater than 3            Living together                 1                 1      other      other        home   mother            2           2         0       yes                 no   no        yes     yes    yes      yes       no       5          4       4     1     1       4         4   8   9  10\n",
            "284     GP  Female   17   Urban      Greater than 3            Living together                 2                 2      other      other      course   mother            1           2         0        no                yes   no         no      no    yes      yes       no       5          4       5     1     2       5         4  10   9  11\n",
            "285     GP    Male   17   Urban      Greater than 3            Living together                 1                 1      other      other  reputation   father            1           2         0        no                 no  yes         no      no    yes      yes       no       4          3       3     1     2       4         2  12  10  11\n",
            "286     GP  Female   18   Urban      Greater than 3            Living together                 2                 2    at_home    at_home       other   mother            1           3         0        no                yes  yes         no     yes    yes      yes       no       4          3       3     1     2       2         5  18  18  19\n",
            "287     GP  Female   17   Urban      Greater than 3            Living together                 1                 1   services    teacher  reputation   mother            1           3         0        no                yes  yes         no     yes    yes      yes       no       4          3       3     1     1       3         6  13  12  12\n",
            "288     GP    Male   18   Urban      Greater than 3            Living together                 2                 1   services   services  reputation   mother            1           3         0        no                 no  yes        yes     yes    yes      yes       no       4          2       4     1     3       2         6  15  14  14\n",
            "289     GP    Male   18   Urban  Less or equal to 3                      Apart                 4                 4    teacher    teacher  reputation   mother            1           2         0        no                yes  yes        yes     yes    yes      yes       no       5          4       3     1     1       2         9  15  13  15\n",
            "290     GP    Male   18   Urban      Greater than 3            Living together                 4                 2    teacher      other        home   mother            1           2         0        no                yes  yes        yes     yes    yes      yes      yes       4          3       2     1     4       5        11  12  11  11\n",
            "291     GP  Female   17   Urban      Greater than 3            Living together                 4                 3     health   services  reputation   mother            1           3         0        no                yes  yes         no     yes    yes      yes       no       4          2       2     1     2       3         0  15  15  15\n",
            "292     GP  Female   18   Urban  Less or equal to 3            Living together                 2                 1   services    at_home  reputation   mother            1           2         1        no                 no   no         no     yes    yes      yes      yes       5          4       3     1     1       5        12  12  12  13\n",
            "293     GP  Female   17   Rural  Less or equal to 3            Living together                 3                 1   services      other  reputation   mother            2           4         0        no                yes  yes         no     yes    yes       no       no       3          1       2     1     1       3         6  18  18  18\n",
            "294     GP    Male   18   Rural  Less or equal to 3            Living together                 3                 2   services      other  reputation   mother            2           3         0        no                yes  yes        yes     yes    yes      yes       no       5          4       2     1     1       4         8  14  13  14\n",
            "295     GP    Male   17   Urban      Greater than 3            Living together                 3                 3     health      other        home   mother            1           1         0        no                yes  yes         no     yes    yes      yes       no       4          4       3     1     3       5         4  14  12  11\n",
            "296     GP  Female   19   Urban      Greater than 3            Living together                 4                 4     health      other  reputation    other            2           2         0        no                yes  yes        yes     yes    yes      yes       no       2          3       4     2     3       2         0  10   9   0\n",
            "297     GP  Female   18   Urban  Less or equal to 3            Living together                 4                 3      other      other        home    other            2           2         0        no                yes  yes         no     yes    yes      yes      yes       4          4       5     1     2       2        10  10   8   8\n",
            "298     GP  Female   18   Urban      Greater than 3            Living together                 4                 3      other      other  reputation   father            1           4         0        no                yes  yes         no     yes    yes      yes       no       4          3       3     1     1       3         0  14  13  14\n",
            "299     GP    Male   18   Urban  Less or equal to 3            Living together                 4                 4    teacher    teacher        home   mother            1           1         0        no                yes  yes         no     yes    yes      yes      yes       1          4       2     2     2       1         5  16  15  16\n",
            "300     GP  Female   18   Urban  Less or equal to 3                      Apart                 4                 4     health      other        home   mother            1           2         0        no                yes   no         no     yes    yes      yes      yes       4          2       4     1     1       4        14  12  10  11\n",
            "301     GP    Male   17   Urban  Less or equal to 3            Living together                 4                 4      other    teacher        home   father            2           1         0        no                 no  yes         no     yes    yes      yes       no       4          1       1     2     2       5         0  11  11  10\n",
            "302     GP  Female   17   Urban      Greater than 3            Living together                 4                 2      other      other  reputation   mother            2           3         0        no                yes  yes         no     yes    yes      yes       no       4          3       3     1     1       3         0  15  12  14\n",
            "303     GP  Female   17   Urban      Greater than 3            Living together                 3                 2     health     health  reputation   father            1           4         0        no                yes  yes        yes      no    yes      yes       no       5          2       2     1     2       5         0  17  17  18\n",
            "304     GP    Male   19   Urban      Greater than 3            Living together                 3                 3      other      other        home    other            1           2         1        no                yes   no        yes     yes    yes      yes      yes       4          4       4     1     1       3        20  15  14  13\n",
            "305     GP  Female   18   Urban      Greater than 3            Living together                 2                 4   services    at_home  reputation    other            1           2         1        no                yes  yes        yes     yes    yes      yes       no       4          4       3     1     1       3         8  14  12  12\n",
            "306     GP    Male   20   Urban      Greater than 3                      Apart                 3                 2   services      other      course    other            1           1         0        no                 no   no        yes     yes    yes       no       no       5          5       3     1     1       5         0  17  18  18\n",
            "307     GP    Male   19   Urban      Greater than 3            Living together                 4                 4    teacher   services  reputation    other            2           1         1        no                yes  yes         no     yes    yes      yes      yes       4          3       4     1     1       4        38   8   9   8\n",
            "308     GP    Male   19   Rural      Greater than 3            Living together                 3                 3      other   services  reputation   father            1           2         1        no                 no   no        yes     yes    yes       no      yes       4          5       3     1     2       5         0  15  12  12\n",
            "309     GP  Female   19   Urban  Less or equal to 3            Living together                 1                 1    at_home      other  reputation    other            1           2         1       yes                yes   no        yes      no    yes      yes       no       4          4       3     1     3       3        18  12  10  10\n",
            "310     GP  Female   19   Urban  Less or equal to 3            Living together                 1                 2   services   services        home    other            1           2         1        no                 no   no        yes      no    yes       no      yes       4          2       4     2     2       3         0   9   9   0\n",
            "311     GP  Female   19   Urban      Greater than 3            Living together                 2                 1    at_home      other       other    other            3           2         0        no                yes   no         no     yes     no      yes      yes       3          4       1     1     1       2        20  14  12  13\n",
            "312     GP    Male   19   Urban      Greater than 3            Living together                 1                 2      other   services      course    other            1           2         1        no                 no   no         no      no    yes      yes       no       4          5       2     2     2       4         3  13  11  11\n",
            "313     GP  Female   19   Urban  Less or equal to 3            Living together                 3                 2   services      other  reputation    other            2           2         1        no                yes  yes         no      no    yes      yes      yes       4          2       2     1     2       1        22  13  10  11\n",
            "314     GP  Female   19   Urban      Greater than 3            Living together                 1                 1    at_home     health        home    other            1           3         2        no                 no   no         no      no    yes      yes      yes       4          1       2     1     1       3        14  15  13  13\n",
            "315     GP  Female   19   Rural      Greater than 3            Living together                 2                 3      other      other  reputation    other            1           3         1        no                 no   no         no     yes    yes      yes      yes       4          1       2     1     1       3        40  13  11  11\n",
            "316     GP  Female   18   Urban      Greater than 3            Living together                 2                 1   services      other      course   mother            2           2         0        no                yes  yes        yes     yes    yes      yes       no       5          3       3     1     2       1         0   8   8   0\n",
            "317     GP  Female   18   Urban      Greater than 3            Living together                 4                 3      other      other      course   mother            1           3         0        no                yes  yes        yes     yes    yes      yes      yes       4          3       4     1     1       5         9   9  10   9\n",
            "318     GP  Female   17   Rural      Greater than 3            Living together                 3                 4    at_home   services      course   father            1           3         0        no                yes  yes        yes      no    yes      yes       no       4          3       4     2     5       5         0  11  11  10\n",
            "319     GP  Female   18   Urban      Greater than 3            Living together                 4                 4    teacher      other      course   mother            1           2         0        no                yes  yes         no     yes    yes      yes       no       4          4       4     3     3       5         2  11  11  11\n",
            "320     GP  Female   17   Urban      Greater than 3                      Apart                 4                 3   services   services      course   mother            1           2         0        no                yes  yes         no     yes    yes      yes      yes       5          2       2     1     2       5        23  13  13  13\n",
            "321     GP  Female   17   Urban      Greater than 3            Living together                 2                 2      other      other      course   mother            1           2         0        no                yes   no         no     yes    yes       no      yes       4          2       2     1     1       3        12  11   9   9\n",
            "322     GP  Female   17   Rural  Less or equal to 3            Living together                 2                 2   services   services      course   mother            1           3         0        no                yes  yes        yes     yes    yes      yes       no       3          3       2     2     2       3         3  11  11  11\n",
            "323     GP  Female   17   Urban      Greater than 3            Living together                 3                 1   services   services      course   father            1           3         0        no                yes   no         no      no    yes      yes       no       3          4       3     2     3       5         1  12  14  15\n",
            "324     GP  Female   17   Urban  Less or equal to 3            Living together                 0                 2    at_home    at_home        home   father            2           3         0        no                 no   no         no     yes    yes      yes       no       3          3       3     2     3       2         0  16  15  15\n",
            "325     GP    Male   18   Urban      Greater than 3            Living together                 4                 4      other      other      course   mother            1           3         0        no                 no   no        yes     yes    yes      yes       no       4          3       3     2     2       3         3   9  12  11\n",
            "326     GP    Male   17   Urban      Greater than 3            Living together                 3                 3      other   services  reputation   mother            1           1         0        no                 no   no        yes      no    yes      yes       no       4          3       5     3     5       5         3  14  15  16\n",
            "327     GP    Male   17   Rural      Greater than 3            Living together                 2                 2   services      other      course   mother            4           1         0        no                yes   no         no     yes    yes      yes       no       4          4       5     5     5       4         8  11  10  10\n",
            "328     GP  Female   17   Urban      Greater than 3            Living together                 4                 4    teacher   services      course   mother            1           3         0        no                yes  yes        yes     yes    yes      yes       no       5          4       4     1     3       4         7  10   9   9\n",
            "329     GP  Female   17   Urban      Greater than 3            Living together                 4                 4    teacher    teacher      course   mother            2           3         0        no                yes  yes         no      no    yes      yes      yes       4          3       3     1     2       4         4  14  14  14\n",
            "330     GP    Male   18   Urban  Less or equal to 3            Living together                 2                 2      other      other      course   mother            1           4         0        no                yes   no        yes     yes    yes      yes       no       4          5       5     2     4       5         2   9   8   8\n",
            "331     GP  Female   17   Rural      Greater than 3            Living together                 2                 4    at_home      other      course   father            1           3         0        no                yes   no         no     yes    yes      yes      yes       4          4       3     1     1       5         7  12  14  14\n",
            "332     GP  Female   18   Urban      Greater than 3            Living together                 3                 3   services   services        home   mother            1           2         0        no                 no   no        yes     yes    yes      yes       no       5          3       4     1     1       4         0   7   0   0\n",
            "333     GP  Female   18   Urban  Less or equal to 3            Living together                 2                 2      other      other        home    other            1           2         0        no                 no   no        yes      no    yes      yes      yes       4          3       3     1     1       2         0   8   8   0\n",
            "334     GP  Female   18   Rural      Greater than 3            Living together                 2                 2    at_home      other      course   mother            2           4         0        no                 no   no        yes     yes    yes       no       no       4          4       4     1     1       4         0  10   9   0\n",
            "335     GP  Female   17   Urban      Greater than 3            Living together                 3                 4   services      other      course   mother            1           3         0        no                 no   no         no     yes    yes      yes       no       4          4       5     1     3       5        16  16  15  15\n",
            "336     GP  Female   19   Rural      Greater than 3                      Apart                 3                 1   services    at_home        home    other            1           3         1        no                 no  yes         no     yes    yes       no       no       5          4       3     1     2       5        12  14  13  13\n",
            "337     GP  Female   17   Urban      Greater than 3            Living together                 3                 2      other      other        home   mother            1           2         0        no                yes  yes         no     yes    yes      yes      yes       4          3       2     2     3       2         0   7   8   0\n",
            "338     GP  Female   18   Urban  Less or equal to 3            Living together                 3                 3   services   services        home   mother            1           4         0        no                yes   no         no     yes    yes      yes       no       5          3       3     1     1       1         7  16  15  17\n",
            "339     GP  Female   17   Rural      Greater than 3                      Apart                 3                 2      other      other        home   mother            1           2         0        no                yes  yes         no     yes    yes      yes       no       4          3       3     2     3       2         4   9  10  10\n",
            "340     GP  Female   19   Urban      Greater than 3            Living together                 2                 1   services   services        home    other            1           3         1        no                 no  yes        yes     yes    yes      yes      yes       4          3       4     1     3       3         4  11  12  11\n",
            "341     GP    Male   18   Urban      Greater than 3            Living together                 4                 4    teacher   services        home   father            1           2         1        no                yes   no        yes     yes    yes      yes       no       4          3       3     2     2       2         0  10  10   0\n",
            "342     GP    Male   18   Urban  Less or equal to 3            Living together                 3                 4   services      other        home   mother            1           2         0        no                 no   no        yes     yes    yes      yes      yes       4          3       3     1     3       5        11  16  15  15\n",
            "343     GP  Female   17   Urban      Greater than 3                      Apart                 2                 2    at_home    at_home        home   father            1           2         1        no                yes   no         no     yes    yes      yes      yes       3          3       1     1     2       4         0   9   8   0\n",
            "344     GP  Female   18   Urban      Greater than 3            Living together                 2                 3    at_home      other      course   mother            1           3         0        no                yes   no         no     yes    yes      yes       no       4          3       3     1     2       3         4  11  10  10\n",
            "345     GP  Female   18   Urban      Greater than 3            Living together                 3                 2      other   services       other   mother            1           3         0        no                 no   no         no     yes    yes      yes      yes       5          4       3     2     3       1         7  13  13  14\n",
            "346     GP    Male   18   Rural      Greater than 3            Living together                 4                 3    teacher   services      course   mother            1           3         0        no                 no   no         no     yes    yes      yes      yes       5          3       2     1     2       4         9  16  15  16\n",
            "347     GP    Male   18   Urban      Greater than 3            Living together                 4                 3    teacher      other      course   mother            1           3         0        no                yes  yes         no     yes    yes      yes      yes       5          4       5     2     3       5         0  10  10   9\n",
            "348     GP  Female   17   Urban      Greater than 3            Living together                 4                 3     health      other  reputation   mother            1           3         0        no                yes  yes        yes     yes    yes      yes      yes       4          4       3     1     3       4         0  13  15  15\n",
            "349     MS    Male   18   Rural      Greater than 3            Living together                 3                 2      other      other      course   mother            2           1         1        no                yes   no         no      no    yes      yes       no       2          5       5     5     5       5        10  11  13  13\n",
            "350     MS    Male   19   Rural      Greater than 3            Living together                 1                 1      other   services        home    other            3           2         3        no                 no   no         no     yes    yes      yes       no       5          4       4     3     3       2         8   8   7   8\n",
            "351     MS    Male   17   Urban      Greater than 3            Living together                 3                 3     health      other      course   mother            2           2         0        no                yes  yes         no     yes    yes      yes       no       4          5       4     2     3       3         2  13  13  13\n",
            "352     MS    Male   18   Urban  Less or equal to 3            Living together                 1                 3    at_home   services      course   mother            1           1         1        no                 no   no         no     yes     no      yes      yes       4          3       3     2     3       3         7   8   7   8\n",
            "353     MS    Male   19   Rural      Greater than 3            Living together                 1                 1      other      other        home    other            3           1         1        no                yes   no         no     yes    yes      yes       no       4          4       4     3     3       5         4   8   8   8\n",
            "354     MS    Male   17   Rural      Greater than 3            Living together                 4                 3   services      other        home   mother            2           2         0        no                yes  yes        yes      no    yes      yes      yes       4          5       5     1     3       2         4  13  11  11\n",
            "355     MS  Female   18   Urban      Greater than 3            Living together                 3                 3   services   services      course   father            1           2         0        no                yes   no         no     yes    yes       no      yes       5          3       4     1     1       5         0  10   9   9\n",
            "356     MS  Female   17   Rural      Greater than 3            Living together                 4                 4    teacher   services       other   father            2           2         0        no                yes  yes        yes     yes    yes      yes       no       4          3       3     1     2       5         4  12  13  13\n",
            "357     MS  Female   17   Urban  Less or equal to 3                      Apart                 3                 2   services      other  reputation   mother            2           2         0        no                 no   no         no     yes    yes       no      yes       1          2       3     1     2       5         2  12  12  11\n",
            "358     MS    Male   18   Urban  Less or equal to 3            Living together                 1                 1      other   services        home   father            2           1         0        no                 no   no         no      no    yes      yes      yes       3          3       2     1     2       3         4  10  10  10\n",
            "359     MS  Female   18   Urban  Less or equal to 3            Living together                 1                 1    at_home   services      course   father            2           3         0        no                 no   no         no     yes    yes      yes       no       5          3       2     1     1       4         0  18  16  16\n",
            "360     MS  Female   18   Rural  Less or equal to 3                      Apart                 1                 4    at_home      other      course   mother            3           2         0        no                 no   no         no     yes    yes       no      yes       4          3       4     1     4       5         0  13  13  13\n",
            "361     MS    Male   18   Rural  Less or equal to 3            Living together                 1                 1    at_home      other       other   mother            2           2         1        no                 no   no        yes      no     no       no       no       4          4       3     2     3       5         2  13  12  12\n",
            "362     MS  Female   18   Urban      Greater than 3            Living together                 3                 3   services   services       other   mother            2           2         0        no                yes   no         no     yes    yes      yes      yes       4          3       2     1     3       3         0  11  11  10\n",
            "363     MS  Female   17   Urban  Less or equal to 3            Living together                 4                 4    at_home    at_home      course   mother            1           2         0        no                yes  yes        yes     yes    yes      yes      yes       2          3       4     1     1       1         0  16  15  15\n",
            "364     MS  Female   17   Rural      Greater than 3            Living together                 1                 2      other   services      course   father            2           2         0        no                 no   no         no      no    yes       no       no       3          2       2     1     2       3         0  12  11  12\n",
            "365     MS    Male   18   Rural      Greater than 3            Living together                 1                 3    at_home      other      course   mother            2           2         0        no                yes  yes         no     yes    yes       no       no       3          3       4     2     4       3         4  10  10  10\n",
            "366     MS    Male   18   Urban  Less or equal to 3            Living together                 4                 4    teacher   services       other   mother            2           3         0        no                 no  yes         no     yes    yes      yes      yes       4          2       2     2     2       5         0  13  13  13\n",
            "367     MS  Female   17   Rural      Greater than 3            Living together                 1                 1      other   services  reputation   mother            3           1         1        no                yes  yes         no     yes    yes      yes      yes       5          2       1     1     2       1         0   7   6   0\n",
            "368     MS  Female   18   Urban      Greater than 3            Living together                 2                 3    at_home   services      course   father            2           1         0        no                yes  yes         no     yes    yes      yes      yes       5          2       3     1     2       4         0  11  10  10\n",
            "369     MS  Female   18   Rural      Greater than 3            Living together                 4                 4      other    teacher       other   father            3           2         0        no                yes  yes         no      no    yes      yes      yes       3          2       2     4     2       5        10  14  12  11\n",
            "370     MS  Female   19   Urban  Less or equal to 3            Living together                 3                 2   services   services        home    other            2           2         2        no                 no   no        yes     yes    yes       no      yes       3          2       2     1     1       3         4   7   7   9\n",
            "371     MS    Male   18   Rural  Less or equal to 3            Living together                 1                 2    at_home   services       other   father            3           1         0        no                yes  yes        yes     yes     no      yes      yes       4          3       3     2     3       3         3  14  12  12\n",
            "372     MS  Female   17   Urban      Greater than 3            Living together                 2                 2      other    at_home        home   mother            1           3         0        no                 no   no        yes     yes    yes       no      yes       3          4       3     1     1       3         8  13  11  11\n",
            "373     MS  Female   17   Rural      Greater than 3            Living together                 1                 2      other      other      course   mother            1           1         0        no                 no   no        yes     yes    yes      yes       no       3          5       5     1     3       1        14   6   5   5\n",
            "374     MS  Female   18   Rural  Less or equal to 3            Living together                 4                 4      other      other  reputation   mother            2           3         0        no                 no   no         no     yes    yes      yes       no       5          4       4     1     1       1         0  19  18  19\n",
            "375     MS  Female   18   Rural      Greater than 3            Living together                 1                 1      other      other        home   mother            4           3         0        no                 no   no         no     yes    yes      yes       no       4          3       2     1     2       4         2   8   8  10\n",
            "376     MS  Female   20   Urban      Greater than 3            Living together                 4                 2     health      other      course    other            2           3         2        no                yes  yes         no      no    yes      yes      yes       5          4       3     1     1       3         4  15  14  15\n",
            "377     MS  Female   18   Rural  Less or equal to 3            Living together                 4                 4    teacher   services      course   mother            1           2         0        no                 no  yes        yes     yes    yes      yes       no       5          4       3     3     4       2         4   8   9  10\n",
            "378     MS  Female   18   Urban      Greater than 3            Living together                 3                 3      other      other        home   mother            1           2         0        no                 no  yes         no     yes    yes      yes      yes       4          1       3     1     2       1         0  15  15  15\n",
            "379     MS  Female   17   Rural      Greater than 3            Living together                 3                 1    at_home      other  reputation   mother            1           2         0        no                yes  yes        yes      no    yes      yes       no       4          5       4     2     3       1        17  10  10  10\n",
            "380     MS    Male   18   Urban      Greater than 3            Living together                 4                 4    teacher    teacher        home   father            1           2         0        no                 no  yes        yes      no    yes      yes       no       3          2       4     1     4       2         4  15  14  14\n",
            "381     MS    Male   18   Rural      Greater than 3            Living together                 2                 1      other      other       other   mother            2           1         0        no                 no   no        yes      no    yes      yes      yes       4          4       3     1     3       5         5   7   6   7\n",
            "382     MS    Male   17   Urban      Greater than 3            Living together                 2                 3      other   services        home   father            2           2         0        no                 no   no        yes     yes    yes      yes       no       4          4       3     1     1       3         2  11  11  10\n",
            "383     MS    Male   19   Rural      Greater than 3            Living together                 1                 1      other   services       other   mother            2           1         1        no                 no   no         no     yes    yes       no       no       4          3       2     1     3       5         0   6   5   0\n",
            "384     MS    Male   18   Rural      Greater than 3            Living together                 4                 2      other      other        home   father            2           1         1        no                 no  yes         no     yes    yes       no       no       5          4       3     4     3       3        14   6   5   5\n",
            "385     MS  Female   18   Rural      Greater than 3            Living together                 2                 2    at_home      other       other   mother            2           3         0        no                 no  yes         no     yes    yes       no       no       5          3       3     1     3       4         2  10   9  10\n",
            "386     MS  Female   18   Rural      Greater than 3            Living together                 4                 4    teacher    at_home  reputation   mother            3           1         0        no                yes  yes        yes     yes    yes      yes      yes       4          4       3     2     2       5         7   6   5   6\n",
            "387     MS  Female   19   Rural      Greater than 3            Living together                 2                 3   services      other      course   mother            1           3         1        no                 no   no        yes      no    yes      yes       no       5          4       2     1     2       5         0   7   5   0\n",
            "388     MS  Female   18   Urban  Less or equal to 3            Living together                 3                 1    teacher   services      course   mother            1           2         0        no                yes  yes         no     yes    yes      yes       no       4          3       4     1     1       1         0   7   9   8\n",
            "389     MS  Female   18   Urban      Greater than 3            Living together                 1                 1      other      other      course   mother            2           2         1        no                 no   no        yes     yes    yes       no       no       1          1       1     1     1       5         0   6   5   0\n",
            "390     MS    Male   20   Urban  Less or equal to 3                      Apart                 2                 2   services   services      course    other            1           2         2        no                yes  yes         no     yes    yes       no       no       5          5       4     4     5       4        11   9   9   9\n",
            "391     MS    Male   17   Urban  Less or equal to 3            Living together                 3                 1   services   services      course   mother            2           1         0        no                 no   no         no      no    yes      yes       no       2          4       5     3     4       2         3  14  16  16\n",
            "392     MS    Male   21   Rural      Greater than 3            Living together                 1                 1      other      other      course    other            1           1         3        no                 no   no         no      no    yes       no       no       5          5       3     3     3       3         3  10   8   7\n",
            "393     MS    Male   18   Rural  Less or equal to 3            Living together                 3                 2   services      other      course   mother            3           1         0        no                 no   no         no      no    yes      yes       no       4          4       1     3     4       5         0  11  12  10\n",
            "394     MS    Male   19   Urban  Less or equal to 3            Living together                 1                 1      other    at_home      course   father            1           1         0        no                 no   no         no     yes    yes      yes       no       3          2       3     3     3       5         5   8   9   9\n"
          ]
        }
      ]
    },
    {
      "cell_type": "code",
      "source": [
        "data.shape"
      ],
      "metadata": {
        "colab": {
          "base_uri": "https://localhost:8080/",
          "height": 0
        },
        "id": "qeFziZHVlWR6",
        "outputId": "2f709baf-1000-457e-d5d6-ee282ccd069f"
      },
      "execution_count": 10,
      "outputs": [
        {
          "output_type": "execute_result",
          "data": {
            "text/plain": [
              "(395, 33)"
            ]
          },
          "metadata": {},
          "execution_count": 10
        }
      ]
    },
    {
      "cell_type": "markdown",
      "source": [
        "# **data type of each column of data set**"
      ],
      "metadata": {
        "id": "Nx2cWMtKoP1q"
      }
    },
    {
      "cell_type": "code",
      "source": [
        "data.info()"
      ],
      "metadata": {
        "colab": {
          "base_uri": "https://localhost:8080/"
        },
        "id": "XNXzIIVWl2yO",
        "outputId": "7041af20-5e17-4501-abd8-e6f867d2f9e0"
      },
      "execution_count": null,
      "outputs": [
        {
          "output_type": "stream",
          "name": "stdout",
          "text": [
            "<class 'pandas.core.frame.DataFrame'>\n",
            "RangeIndex: 395 entries, 0 to 394\n",
            "Data columns (total 33 columns):\n",
            " #   Column                        Non-Null Count  Dtype  \n",
            "---  ------                        --------------  -----  \n",
            " 0   School                        395 non-null    object \n",
            " 1   Sex                           395 non-null    object \n",
            " 2   Age                           395 non-null    float64\n",
            " 3   Address                       395 non-null    object \n",
            " 4   Family_size                   395 non-null    object \n",
            " 5   Parent's_cohabitation_status  395 non-null    object \n",
            " 6   Mother_education              395 non-null    float64\n",
            " 7   Father_education              395 non-null    float64\n",
            " 8   Mother_job                    395 non-null    object \n",
            " 9   Father_job                    395 non-null    object \n",
            " 10  Reason                        395 non-null    object \n",
            " 11  Guardian                      395 non-null    object \n",
            " 12  Trave_ltime                   395 non-null    float64\n",
            " 13  Study_time                    395 non-null    float64\n",
            " 14  Failures                      395 non-null    float64\n",
            " 15  Schoolsup                     395 non-null    object \n",
            " 16  Family_educational            395 non-null    object \n",
            " 17  Paid                          395 non-null    object \n",
            " 18  activities                    395 non-null    object \n",
            " 19  Nursery                       395 non-null    object \n",
            " 20  Higher                        395 non-null    object \n",
            " 21  Internet                      395 non-null    object \n",
            " 22  Romantic                      395 non-null    object \n",
            " 23  Famrel                        395 non-null    float64\n",
            " 24  Free_time                     395 non-null    float64\n",
            " 25  Go_out                        395 non-null    float64\n",
            " 26  Dalc                          395 non-null    float64\n",
            " 27  Walc                          395 non-null    float64\n",
            " 28  Health                        395 non-null    float64\n",
            " 29  Absences                      395 non-null    float64\n",
            " 30  G1                            395 non-null    float64\n",
            " 31  G2                            395 non-null    float64\n",
            " 32  G3                            395 non-null    float64\n",
            "dtypes: float64(16), object(17)\n",
            "memory usage: 102.0+ KB\n"
          ]
        }
      ]
    },
    {
      "cell_type": "markdown",
      "source": [
        "# **show all statical property of numric column**"
      ],
      "metadata": {
        "id": "E0MsHb4po2JO"
      }
    },
    {
      "cell_type": "code",
      "source": [
        "cal =data.describe() \n",
        "cal"
      ],
      "metadata": {
        "colab": {
          "base_uri": "https://localhost:8080/",
          "height": 364
        },
        "id": "DGFNryLImBVS",
        "outputId": "ea76cf7f-8e8e-4031-ca4b-e6509f388e08"
      },
      "execution_count": null,
      "outputs": [
        {
          "output_type": "execute_result",
          "data": {
            "text/plain": [
              "              Age  Mother_education  Father_education  Trave_ltime  \\\n",
              "count  395.000000        395.000000        395.000000   395.000000   \n",
              "mean    16.696203          2.749367          2.521519     1.448101   \n",
              "std      1.276043          1.094735          1.088201     0.697505   \n",
              "min     15.000000          0.000000          0.000000     1.000000   \n",
              "25%     16.000000          2.000000          2.000000     1.000000   \n",
              "50%     17.000000          3.000000          2.000000     1.000000   \n",
              "75%     18.000000          4.000000          3.000000     2.000000   \n",
              "max     22.000000          4.000000          4.000000     4.000000   \n",
              "\n",
              "       Study_time    Failures      Famrel   Free_time      Go_out        Dalc  \\\n",
              "count  395.000000  395.000000  395.000000  395.000000  395.000000  395.000000   \n",
              "mean     2.035443    0.334177    3.944304    3.235443    3.108861    1.481013   \n",
              "std      0.839240    0.743651    0.896659    0.998862    1.113278    0.890741   \n",
              "min      1.000000    0.000000    1.000000    1.000000    1.000000    1.000000   \n",
              "25%      1.000000    0.000000    4.000000    3.000000    2.000000    1.000000   \n",
              "50%      2.000000    0.000000    4.000000    3.000000    3.000000    1.000000   \n",
              "75%      2.000000    0.000000    5.000000    4.000000    4.000000    2.000000   \n",
              "max      4.000000    3.000000    5.000000    5.000000    5.000000    5.000000   \n",
              "\n",
              "             Walc      Health    Absences          G1          G2          G3  \n",
              "count  395.000000  395.000000  395.000000  395.000000  395.000000  395.000000  \n",
              "mean     2.291139    3.554430    5.708861   10.908861   10.713924   10.415190  \n",
              "std      1.287897    1.390303    8.003096    3.319195    3.761505    4.581443  \n",
              "min      1.000000    1.000000    0.000000    3.000000    0.000000    0.000000  \n",
              "25%      1.000000    3.000000    0.000000    8.000000    9.000000    8.000000  \n",
              "50%      2.000000    4.000000    4.000000   11.000000   11.000000   11.000000  \n",
              "75%      3.000000    5.000000    8.000000   13.000000   13.000000   14.000000  \n",
              "max      5.000000    5.000000   75.000000   19.000000   19.000000   20.000000  "
            ],
            "text/html": [
              "\n",
              "  <div id=\"df-0102a19d-94f9-472e-b089-97b63c95f31b\">\n",
              "    <div class=\"colab-df-container\">\n",
              "      <div>\n",
              "<style scoped>\n",
              "    .dataframe tbody tr th:only-of-type {\n",
              "        vertical-align: middle;\n",
              "    }\n",
              "\n",
              "    .dataframe tbody tr th {\n",
              "        vertical-align: top;\n",
              "    }\n",
              "\n",
              "    .dataframe thead th {\n",
              "        text-align: right;\n",
              "    }\n",
              "</style>\n",
              "<table border=\"1\" class=\"dataframe\">\n",
              "  <thead>\n",
              "    <tr style=\"text-align: right;\">\n",
              "      <th></th>\n",
              "      <th>Age</th>\n",
              "      <th>Mother_education</th>\n",
              "      <th>Father_education</th>\n",
              "      <th>Trave_ltime</th>\n",
              "      <th>Study_time</th>\n",
              "      <th>Failures</th>\n",
              "      <th>Famrel</th>\n",
              "      <th>Free_time</th>\n",
              "      <th>Go_out</th>\n",
              "      <th>Dalc</th>\n",
              "      <th>Walc</th>\n",
              "      <th>Health</th>\n",
              "      <th>Absences</th>\n",
              "      <th>G1</th>\n",
              "      <th>G2</th>\n",
              "      <th>G3</th>\n",
              "    </tr>\n",
              "  </thead>\n",
              "  <tbody>\n",
              "    <tr>\n",
              "      <th>count</th>\n",
              "      <td>395.000000</td>\n",
              "      <td>395.000000</td>\n",
              "      <td>395.000000</td>\n",
              "      <td>395.000000</td>\n",
              "      <td>395.000000</td>\n",
              "      <td>395.000000</td>\n",
              "      <td>395.000000</td>\n",
              "      <td>395.000000</td>\n",
              "      <td>395.000000</td>\n",
              "      <td>395.000000</td>\n",
              "      <td>395.000000</td>\n",
              "      <td>395.000000</td>\n",
              "      <td>395.000000</td>\n",
              "      <td>395.000000</td>\n",
              "      <td>395.000000</td>\n",
              "      <td>395.000000</td>\n",
              "    </tr>\n",
              "    <tr>\n",
              "      <th>mean</th>\n",
              "      <td>16.696203</td>\n",
              "      <td>2.749367</td>\n",
              "      <td>2.521519</td>\n",
              "      <td>1.448101</td>\n",
              "      <td>2.035443</td>\n",
              "      <td>0.334177</td>\n",
              "      <td>3.944304</td>\n",
              "      <td>3.235443</td>\n",
              "      <td>3.108861</td>\n",
              "      <td>1.481013</td>\n",
              "      <td>2.291139</td>\n",
              "      <td>3.554430</td>\n",
              "      <td>5.708861</td>\n",
              "      <td>10.908861</td>\n",
              "      <td>10.713924</td>\n",
              "      <td>10.415190</td>\n",
              "    </tr>\n",
              "    <tr>\n",
              "      <th>std</th>\n",
              "      <td>1.276043</td>\n",
              "      <td>1.094735</td>\n",
              "      <td>1.088201</td>\n",
              "      <td>0.697505</td>\n",
              "      <td>0.839240</td>\n",
              "      <td>0.743651</td>\n",
              "      <td>0.896659</td>\n",
              "      <td>0.998862</td>\n",
              "      <td>1.113278</td>\n",
              "      <td>0.890741</td>\n",
              "      <td>1.287897</td>\n",
              "      <td>1.390303</td>\n",
              "      <td>8.003096</td>\n",
              "      <td>3.319195</td>\n",
              "      <td>3.761505</td>\n",
              "      <td>4.581443</td>\n",
              "    </tr>\n",
              "    <tr>\n",
              "      <th>min</th>\n",
              "      <td>15.000000</td>\n",
              "      <td>0.000000</td>\n",
              "      <td>0.000000</td>\n",
              "      <td>1.000000</td>\n",
              "      <td>1.000000</td>\n",
              "      <td>0.000000</td>\n",
              "      <td>1.000000</td>\n",
              "      <td>1.000000</td>\n",
              "      <td>1.000000</td>\n",
              "      <td>1.000000</td>\n",
              "      <td>1.000000</td>\n",
              "      <td>1.000000</td>\n",
              "      <td>0.000000</td>\n",
              "      <td>3.000000</td>\n",
              "      <td>0.000000</td>\n",
              "      <td>0.000000</td>\n",
              "    </tr>\n",
              "    <tr>\n",
              "      <th>25%</th>\n",
              "      <td>16.000000</td>\n",
              "      <td>2.000000</td>\n",
              "      <td>2.000000</td>\n",
              "      <td>1.000000</td>\n",
              "      <td>1.000000</td>\n",
              "      <td>0.000000</td>\n",
              "      <td>4.000000</td>\n",
              "      <td>3.000000</td>\n",
              "      <td>2.000000</td>\n",
              "      <td>1.000000</td>\n",
              "      <td>1.000000</td>\n",
              "      <td>3.000000</td>\n",
              "      <td>0.000000</td>\n",
              "      <td>8.000000</td>\n",
              "      <td>9.000000</td>\n",
              "      <td>8.000000</td>\n",
              "    </tr>\n",
              "    <tr>\n",
              "      <th>50%</th>\n",
              "      <td>17.000000</td>\n",
              "      <td>3.000000</td>\n",
              "      <td>2.000000</td>\n",
              "      <td>1.000000</td>\n",
              "      <td>2.000000</td>\n",
              "      <td>0.000000</td>\n",
              "      <td>4.000000</td>\n",
              "      <td>3.000000</td>\n",
              "      <td>3.000000</td>\n",
              "      <td>1.000000</td>\n",
              "      <td>2.000000</td>\n",
              "      <td>4.000000</td>\n",
              "      <td>4.000000</td>\n",
              "      <td>11.000000</td>\n",
              "      <td>11.000000</td>\n",
              "      <td>11.000000</td>\n",
              "    </tr>\n",
              "    <tr>\n",
              "      <th>75%</th>\n",
              "      <td>18.000000</td>\n",
              "      <td>4.000000</td>\n",
              "      <td>3.000000</td>\n",
              "      <td>2.000000</td>\n",
              "      <td>2.000000</td>\n",
              "      <td>0.000000</td>\n",
              "      <td>5.000000</td>\n",
              "      <td>4.000000</td>\n",
              "      <td>4.000000</td>\n",
              "      <td>2.000000</td>\n",
              "      <td>3.000000</td>\n",
              "      <td>5.000000</td>\n",
              "      <td>8.000000</td>\n",
              "      <td>13.000000</td>\n",
              "      <td>13.000000</td>\n",
              "      <td>14.000000</td>\n",
              "    </tr>\n",
              "    <tr>\n",
              "      <th>max</th>\n",
              "      <td>22.000000</td>\n",
              "      <td>4.000000</td>\n",
              "      <td>4.000000</td>\n",
              "      <td>4.000000</td>\n",
              "      <td>4.000000</td>\n",
              "      <td>3.000000</td>\n",
              "      <td>5.000000</td>\n",
              "      <td>5.000000</td>\n",
              "      <td>5.000000</td>\n",
              "      <td>5.000000</td>\n",
              "      <td>5.000000</td>\n",
              "      <td>5.000000</td>\n",
              "      <td>75.000000</td>\n",
              "      <td>19.000000</td>\n",
              "      <td>19.000000</td>\n",
              "      <td>20.000000</td>\n",
              "    </tr>\n",
              "  </tbody>\n",
              "</table>\n",
              "</div>\n",
              "      <button class=\"colab-df-convert\" onclick=\"convertToInteractive('df-0102a19d-94f9-472e-b089-97b63c95f31b')\"\n",
              "              title=\"Convert this dataframe to an interactive table.\"\n",
              "              style=\"display:none;\">\n",
              "        \n",
              "  <svg xmlns=\"http://www.w3.org/2000/svg\" height=\"24px\"viewBox=\"0 0 24 24\"\n",
              "       width=\"24px\">\n",
              "    <path d=\"M0 0h24v24H0V0z\" fill=\"none\"/>\n",
              "    <path d=\"M18.56 5.44l.94 2.06.94-2.06 2.06-.94-2.06-.94-.94-2.06-.94 2.06-2.06.94zm-11 1L8.5 8.5l.94-2.06 2.06-.94-2.06-.94L8.5 2.5l-.94 2.06-2.06.94zm10 10l.94 2.06.94-2.06 2.06-.94-2.06-.94-.94-2.06-.94 2.06-2.06.94z\"/><path d=\"M17.41 7.96l-1.37-1.37c-.4-.4-.92-.59-1.43-.59-.52 0-1.04.2-1.43.59L10.3 9.45l-7.72 7.72c-.78.78-.78 2.05 0 2.83L4 21.41c.39.39.9.59 1.41.59.51 0 1.02-.2 1.41-.59l7.78-7.78 2.81-2.81c.8-.78.8-2.07 0-2.86zM5.41 20L4 18.59l7.72-7.72 1.47 1.35L5.41 20z\"/>\n",
              "  </svg>\n",
              "      </button>\n",
              "      \n",
              "  <style>\n",
              "    .colab-df-container {\n",
              "      display:flex;\n",
              "      flex-wrap:wrap;\n",
              "      gap: 12px;\n",
              "    }\n",
              "\n",
              "    .colab-df-convert {\n",
              "      background-color: #E8F0FE;\n",
              "      border: none;\n",
              "      border-radius: 50%;\n",
              "      cursor: pointer;\n",
              "      display: none;\n",
              "      fill: #1967D2;\n",
              "      height: 32px;\n",
              "      padding: 0 0 0 0;\n",
              "      width: 32px;\n",
              "    }\n",
              "\n",
              "    .colab-df-convert:hover {\n",
              "      background-color: #E2EBFA;\n",
              "      box-shadow: 0px 1px 2px rgba(60, 64, 67, 0.3), 0px 1px 3px 1px rgba(60, 64, 67, 0.15);\n",
              "      fill: #174EA6;\n",
              "    }\n",
              "\n",
              "    [theme=dark] .colab-df-convert {\n",
              "      background-color: #3B4455;\n",
              "      fill: #D2E3FC;\n",
              "    }\n",
              "\n",
              "    [theme=dark] .colab-df-convert:hover {\n",
              "      background-color: #434B5C;\n",
              "      box-shadow: 0px 1px 3px 1px rgba(0, 0, 0, 0.15);\n",
              "      filter: drop-shadow(0px 1px 2px rgba(0, 0, 0, 0.3));\n",
              "      fill: #FFFFFF;\n",
              "    }\n",
              "  </style>\n",
              "\n",
              "      <script>\n",
              "        const buttonEl =\n",
              "          document.querySelector('#df-0102a19d-94f9-472e-b089-97b63c95f31b button.colab-df-convert');\n",
              "        buttonEl.style.display =\n",
              "          google.colab.kernel.accessAllowed ? 'block' : 'none';\n",
              "\n",
              "        async function convertToInteractive(key) {\n",
              "          const element = document.querySelector('#df-0102a19d-94f9-472e-b089-97b63c95f31b');\n",
              "          const dataTable =\n",
              "            await google.colab.kernel.invokeFunction('convertToInteractive',\n",
              "                                                     [key], {});\n",
              "          if (!dataTable) return;\n",
              "\n",
              "          const docLinkHtml = 'Like what you see? Visit the ' +\n",
              "            '<a target=\"_blank\" href=https://colab.research.google.com/notebooks/data_table.ipynb>data table notebook</a>'\n",
              "            + ' to learn more about interactive tables.';\n",
              "          element.innerHTML = '';\n",
              "          dataTable['output_type'] = 'display_data';\n",
              "          await google.colab.output.renderOutput(dataTable, element);\n",
              "          const docLink = document.createElement('div');\n",
              "          docLink.innerHTML = docLinkHtml;\n",
              "          element.appendChild(docLink);\n",
              "        }\n",
              "      </script>\n",
              "    </div>\n",
              "  </div>\n",
              "  "
            ]
          },
          "metadata": {},
          "execution_count": 7
        }
      ]
    },
    {
      "cell_type": "markdown",
      "source": [
        "# **Graphical Representation**"
      ],
      "metadata": {
        "id": "_dU4yf5_MqjJ"
      }
    },
    {
      "cell_type": "markdown",
      "source": [
        "# **Box plot of Age column**"
      ],
      "metadata": {
        "id": "lfLuAz-AOtJO"
      }
    },
    {
      "cell_type": "code",
      "source": [
        "\n",
        "data['Age'].plot(kind='box', vert= False, figsize=(10,6))"
      ],
      "metadata": {
        "id": "BuHo6LTsHh9y",
        "colab": {
          "base_uri": "https://localhost:8080/",
          "height": 391
        },
        "outputId": "462c3596-c874-4cd4-d05f-68f76dc2c3a2"
      },
      "execution_count": null,
      "outputs": [
        {
          "output_type": "execute_result",
          "data": {
            "text/plain": [
              "<matplotlib.axes._subplots.AxesSubplot at 0x7f479c69c2d0>"
            ]
          },
          "metadata": {},
          "execution_count": 24
        },
        {
          "output_type": "display_data",
          "data": {
            "text/plain": [
              "<Figure size 720x432 with 1 Axes>"
            ],
            "image/png": "[encoded data removed]"
          },
          "metadata": {
            "needs_background": "light"
          }
        }
      ]
    },
    {
      "cell_type": "markdown",
      "source": [
        "# **Mother Education ratio**"
      ],
      "metadata": {
        "id": "CcO1yHU3PEUG"
      }
    },
    {
      "cell_type": "code",
      "source": [
        "data['Mother_education'].plot(kind='density', figsize=(14,6))"
      ],
      "metadata": {
        "colab": {
          "base_uri": "https://localhost:8080/",
          "height": 391
        },
        "id": "-5EGHMtCHYIN",
        "outputId": "0d72affe-8c13-4184-d1e9-e0420256659b"
      },
      "execution_count": null,
      "outputs": [
        {
          "output_type": "execute_result",
          "data": {
            "text/plain": [
              "<matplotlib.axes._subplots.AxesSubplot at 0x7f47ab2ca310>"
            ]
          },
          "metadata": {},
          "execution_count": 9
        },
        {
          "output_type": "display_data",
          "data": {
            "text/plain": [
              "<Figure size 1008x432 with 1 Axes>"
            ],
            "image/png": "[encoded data removed]"
          },
          "metadata": {
            "needs_background": "light"
          }
        }
      ]
    },
    {
      "cell_type": "markdown",
      "source": [
        "# **Father Education Ratio**"
      ],
      "metadata": {
        "id": "41prjCB7PNX8"
      }
    },
    {
      "cell_type": "code",
      "source": [
        "var=data['Father_education'].plot(kind='density', figsize=(14,6))\n",
        "var.axvline(data['Father_education'].mean(), color='red')\n",
        "var.axvline(data['Father_education'].median(), color='green')"
      ],
      "metadata": {
        "colab": {
          "base_uri": "https://localhost:8080/",
          "height": 391
        },
        "id": "wW_LjE-zHi2x",
        "outputId": "01b3fe75-55a0-4a95-b88d-e6c066f9da2c"
      },
      "execution_count": null,
      "outputs": [
        {
          "output_type": "execute_result",
          "data": {
            "text/plain": [
              "<matplotlib.lines.Line2D at 0x7f479f3af790>"
            ]
          },
          "metadata": {},
          "execution_count": 10
        },
        {
          "output_type": "display_data",
          "data": {
            "text/plain": [
              "<Figure size 1008x432 with 1 Axes>"
            ],
            "image/png": "[encoded data removed]"
          },
          "metadata": {
            "needs_background": "light"
          }
        }
      ]
    },
    {
      "cell_type": "markdown",
      "source": [
        "# **Parent living status**"
      ],
      "metadata": {
        "id": "bwJGd9w3RU2U"
      }
    },
    {
      "cell_type": "code",
      "source": [
        "data['Parent_cohabitation_status'].value_counts()"
      ],
      "metadata": {
        "colab": {
          "base_uri": "https://localhost:8080/"
        },
        "id": "IvQY-9p5H_iW",
        "outputId": "678081a0-ae4c-40a8-badf-dd8dd0643b82"
      },
      "execution_count": null,
      "outputs": [
        {
          "output_type": "execute_result",
          "data": {
            "text/plain": [
              "Living together    354\n",
              "Apart               41\n",
              "Name: Parent_cohabitation_status, dtype: int64"
            ]
          },
          "metadata": {},
          "execution_count": 33
        }
      ]
    },
    {
      "cell_type": "code",
      "source": [
        "mylabels = ['Living together','Apart']\n",
        "myexplode = [0.2, 0]\n",
        "xy= data['Parent_cohabitation_status'].value_counts()\n",
        "plt.pie(xy, labels = mylabels,explode = myexplode)\n",
        "plt.legend()\n",
        "\n"
      ],
      "metadata": {
        "colab": {
          "base_uri": "https://localhost:8080/",
          "height": 265
        },
        "id": "14s3JU6jIlEm",
        "outputId": "9ec80dd7-46ba-4c26-d35d-ada994806f23"
      },
      "execution_count": null,
      "outputs": [
        {
          "output_type": "execute_result",
          "data": {
            "text/plain": [
              "<matplotlib.legend.Legend at 0x7f479ba75d90>"
            ]
          },
          "metadata": {},
          "execution_count": 32
        },
        {
          "output_type": "display_data",
          "data": {
            "text/plain": [
              "<Figure size 432x288 with 1 Axes>"
            ],
            "image/png": "[encoded data removed]"
          },
          "metadata": {}
        }
      ]
    },
    {
      "cell_type": "markdown",
      "source": [
        "# **Ratio of Male and Female**"
      ],
      "metadata": {
        "id": "k2Gh5iDvRkMz"
      }
    },
    {
      "cell_type": "code",
      "source": [
        "mylabels = ['Male','Female']\n",
        "myexplode = [0.2, 0]\n",
        "mycolor =[ \"g\",\"hotpink\"],\n",
        "xy= data['Sex'].value_counts()\n",
        "plt.pie(xy, labels = mylabels,colors = mycolor)\n",
        "plt.legend()"
      ],
      "metadata": {
        "colab": {
          "base_uri": "https://localhost:8080/",
          "height": 265
        },
        "id": "nqnAKYzqLy0I",
        "outputId": "9f384a40-342d-40a7-d161-5fb1bc5fd753"
      },
      "execution_count": null,
      "outputs": [
        {
          "output_type": "execute_result",
          "data": {
            "text/plain": [
              "<matplotlib.legend.Legend at 0x7f479b9e0450>"
            ]
          },
          "metadata": {},
          "execution_count": 34
        },
        {
          "output_type": "display_data",
          "data": {
            "text/plain": [
              "<Figure size 432x288 with 1 Axes>"
            ],
            "image/png": "[encoded data removed]"
          },
          "metadata": {}
        }
      ]
    },
    {
      "cell_type": "markdown",
      "source": [
        "# **Ratio of tavel time vs failures**"
      ],
      "metadata": {
        "id": "ay6c-WtyRuBY"
      }
    },
    {
      "cell_type": "code",
      "source": [
        "plt.title(\"tavel time vs failures\")\n",
        "plt.xlabel(\"Travel time\")\n",
        "plt.ylabel(\"failures\")\n",
        "var= data['Trave_ltime'].value_counts().plot(kind=\"bar\",figsize=(8,6))\n",
        "var.set_ylabel('Failures')"
      ],
      "metadata": {
        "colab": {
          "base_uri": "https://localhost:8080/",
          "height": 417
        },
        "id": "LEp0eM_dNIuN",
        "outputId": "171758aa-382f-47f0-bcb5-633d415c8f19"
      },
      "execution_count": null,
      "outputs": [
        {
          "output_type": "execute_result",
          "data": {
            "text/plain": [
              "Text(0, 0.5, 'Failures')"
            ]
          },
          "metadata": {},
          "execution_count": 35
        },
        {
          "output_type": "display_data",
          "data": {
            "text/plain": [
              "<Figure size 576x432 with 1 Axes>"
            ],
            "image/png": "[encoded data removed]"
          },
          "metadata": {
            "needs_background": "light"
          }
        }
      ]
    },
    {
      "cell_type": "markdown",
      "source": [
        "# Relationship between columns\n",
        "### Correlation between columns\n",
        "### .corr() -> use for make relation between columns."
      ],
      "metadata": {
        "id": "GEs6l7DtNPC8"
      }
    },
    {
      "cell_type": "code",
      "source": [
        "var = data.corr()\n",
        "var"
      ],
      "metadata": {
        "colab": {
          "base_uri": "https://localhost:8080/",
          "height": 615
        },
        "id": "-GZyTCTSPYXG",
        "outputId": "73c47a31-3d22-4277-cad8-496cd9061435"
      },
      "execution_count": null,
      "outputs": [
        {
          "output_type": "execute_result",
          "data": {
            "text/plain": [
              "                       Age  Mother_education  Father_education  Trave_ltime  \\\n",
              "Age               1.000000         -0.163658         -0.163438     0.070641   \n",
              "Mother_education -0.163658          1.000000          0.623455    -0.171639   \n",
              "Father_education -0.163438          0.623455          1.000000    -0.158194   \n",
              "Trave_ltime       0.070641         -0.171639         -0.158194     1.000000   \n",
              "Study_time       -0.004140          0.064944         -0.009175    -0.100909   \n",
              "Failures          0.243665         -0.236680         -0.250408     0.092239   \n",
              "Famrel            0.053940         -0.003914         -0.001370    -0.016808   \n",
              "Free_time         0.016434          0.030891         -0.012846    -0.017025   \n",
              "Go_out            0.126964          0.064094          0.043105     0.028540   \n",
              "Dalc              0.131125          0.019834          0.002386     0.138325   \n",
              "Walc              0.117276         -0.047123         -0.012631     0.134116   \n",
              "Health           -0.062187         -0.046878          0.014742     0.007501   \n",
              "Absences          0.175230          0.100285          0.024473    -0.012944   \n",
              "G1               -0.064081          0.205341          0.190270    -0.093040   \n",
              "G2               -0.143474          0.215527          0.164893    -0.153198   \n",
              "G3               -0.161579          0.217147          0.152457    -0.117142   \n",
              "\n",
              "                  Study_time  Failures    Famrel  Free_time    Go_out  \\\n",
              "Age                -0.004140  0.243665  0.053940   0.016434  0.126964   \n",
              "Mother_education    0.064944 -0.236680 -0.003914   0.030891  0.064094   \n",
              "Father_education   -0.009175 -0.250408 -0.001370  -0.012846  0.043105   \n",
              "Trave_ltime        -0.100909  0.092239 -0.016808  -0.017025  0.028540   \n",
              "Study_time          1.000000 -0.173563  0.039731  -0.143198 -0.063904   \n",
              "Failures           -0.173563  1.000000 -0.044337   0.091987  0.124561   \n",
              "Famrel              0.039731 -0.044337  1.000000   0.150701  0.064568   \n",
              "Free_time          -0.143198  0.091987  0.150701   1.000000  0.285019   \n",
              "Go_out             -0.063904  0.124561  0.064568   0.285019  1.000000   \n",
              "Dalc               -0.196019  0.136047 -0.077594   0.209001  0.266994   \n",
              "Walc               -0.253785  0.141962 -0.113397   0.147822  0.420386   \n",
              "Health             -0.075616  0.065827  0.094056   0.075733 -0.009577   \n",
              "Absences           -0.062700  0.063726 -0.044354  -0.058078  0.044302   \n",
              "G1                  0.160612 -0.354718  0.022168   0.012613 -0.149104   \n",
              "G2                  0.135880 -0.355896 -0.018281  -0.013777 -0.162250   \n",
              "G3                  0.097820 -0.360415  0.051363   0.011307 -0.132791   \n",
              "\n",
              "                      Dalc      Walc    Health  Absences        G1        G2  \\\n",
              "Age               0.131125  0.117276 -0.062187  0.175230 -0.064081 -0.143474   \n",
              "Mother_education  0.019834 -0.047123 -0.046878  0.100285  0.205341  0.215527   \n",
              "Father_education  0.002386 -0.012631  0.014742  0.024473  0.190270  0.164893   \n",
              "Trave_ltime       0.138325  0.134116  0.007501 -0.012944 -0.093040 -0.153198   \n",
              "Study_time       -0.196019 -0.253785 -0.075616 -0.062700  0.160612  0.135880   \n",
              "Failures          0.136047  0.141962  0.065827  0.063726 -0.354718 -0.355896   \n",
              "Famrel           -0.077594 -0.113397  0.094056 -0.044354  0.022168 -0.018281   \n",
              "Free_time         0.209001  0.147822  0.075733 -0.058078  0.012613 -0.013777   \n",
              "Go_out            0.266994  0.420386 -0.009577  0.044302 -0.149104 -0.162250   \n",
              "Dalc              1.000000  0.647544  0.077180  0.111908 -0.094159 -0.064120   \n",
              "Walc              0.647544  1.000000  0.092476  0.136291 -0.126179 -0.084927   \n",
              "Health            0.077180  0.092476  1.000000 -0.029937 -0.073172 -0.097720   \n",
              "Absences          0.111908  0.136291 -0.029937  1.000000 -0.031003 -0.031777   \n",
              "G1               -0.094159 -0.126179 -0.073172 -0.031003  1.000000  0.852118   \n",
              "G2               -0.064120 -0.084927 -0.097720 -0.031777  0.852118  1.000000   \n",
              "G3               -0.054660 -0.051939 -0.061335  0.034247  0.801468  0.904868   \n",
              "\n",
              "                        G3  \n",
              "Age              -0.161579  \n",
              "Mother_education  0.217147  \n",
              "Father_education  0.152457  \n",
              "Trave_ltime      -0.117142  \n",
              "Study_time        0.097820  \n",
              "Failures         -0.360415  \n",
              "Famrel            0.051363  \n",
              "Free_time         0.011307  \n",
              "Go_out           -0.132791  \n",
              "Dalc             -0.054660  \n",
              "Walc             -0.051939  \n",
              "Health           -0.061335  \n",
              "Absences          0.034247  \n",
              "G1                0.801468  \n",
              "G2                0.904868  \n",
              "G3                1.000000  "
            ],
            "text/html": [
              "\n",
              "  <div id=\"df-afb80a90-8e2e-46ab-93dd-2e82274878aa\">\n",
              "    <div class=\"colab-df-container\">\n",
              "      <div>\n",
              "<style scoped>\n",
              "    .dataframe tbody tr th:only-of-type {\n",
              "        vertical-align: middle;\n",
              "    }\n",
              "\n",
              "    .dataframe tbody tr th {\n",
              "        vertical-align: top;\n",
              "    }\n",
              "\n",
              "    .dataframe thead th {\n",
              "        text-align: right;\n",
              "    }\n",
              "</style>\n",
              "<table border=\"1\" class=\"dataframe\">\n",
              "  <thead>\n",
              "    <tr style=\"text-align: right;\">\n",
              "      <th></th>\n",
              "      <th>Age</th>\n",
              "      <th>Mother_education</th>\n",
              "      <th>Father_education</th>\n",
              "      <th>Trave_ltime</th>\n",
              "      <th>Study_time</th>\n",
              "      <th>Failures</th>\n",
              "      <th>Famrel</th>\n",
              "      <th>Free_time</th>\n",
              "      <th>Go_out</th>\n",
              "      <th>Dalc</th>\n",
              "      <th>Walc</th>\n",
              "      <th>Health</th>\n",
              "      <th>Absences</th>\n",
              "      <th>G1</th>\n",
              "      <th>G2</th>\n",
              "      <th>G3</th>\n",
              "    </tr>\n",
              "  </thead>\n",
              "  <tbody>\n",
              "    <tr>\n",
              "      <th>Age</th>\n",
              "      <td>1.000000</td>\n",
              "      <td>-0.163658</td>\n",
              "      <td>-0.163438</td>\n",
              "      <td>0.070641</td>\n",
              "      <td>-0.004140</td>\n",
              "      <td>0.243665</td>\n",
              "      <td>0.053940</td>\n",
              "      <td>0.016434</td>\n",
              "      <td>0.126964</td>\n",
              "      <td>0.131125</td>\n",
              "      <td>0.117276</td>\n",
              "      <td>-0.062187</td>\n",
              "      <td>0.175230</td>\n",
              "      <td>-0.064081</td>\n",
              "      <td>-0.143474</td>\n",
              "      <td>-0.161579</td>\n",
              "    </tr>\n",
              "    <tr>\n",
              "      <th>Mother_education</th>\n",
              "      <td>-0.163658</td>\n",
              "      <td>1.000000</td>\n",
              "      <td>0.623455</td>\n",
              "      <td>-0.171639</td>\n",
              "      <td>0.064944</td>\n",
              "      <td>-0.236680</td>\n",
              "      <td>-0.003914</td>\n",
              "      <td>0.030891</td>\n",
              "      <td>0.064094</td>\n",
              "      <td>0.019834</td>\n",
              "      <td>-0.047123</td>\n",
              "      <td>-0.046878</td>\n",
              "      <td>0.100285</td>\n",
              "      <td>0.205341</td>\n",
              "      <td>0.215527</td>\n",
              "      <td>0.217147</td>\n",
              "    </tr>\n",
              "    <tr>\n",
              "      <th>Father_education</th>\n",
              "      <td>-0.163438</td>\n",
              "      <td>0.623455</td>\n",
              "      <td>1.000000</td>\n",
              "      <td>-0.158194</td>\n",
              "      <td>-0.009175</td>\n",
              "      <td>-0.250408</td>\n",
              "      <td>-0.001370</td>\n",
              "      <td>-0.012846</td>\n",
              "      <td>0.043105</td>\n",
              "      <td>0.002386</td>\n",
              "      <td>-0.012631</td>\n",
              "      <td>0.014742</td>\n",
              "      <td>0.024473</td>\n",
              "      <td>0.190270</td>\n",
              "      <td>0.164893</td>\n",
              "      <td>0.152457</td>\n",
              "    </tr>\n",
              "    <tr>\n",
              "      <th>Trave_ltime</th>\n",
              "      <td>0.070641</td>\n",
              "      <td>-0.171639</td>\n",
              "      <td>-0.158194</td>\n",
              "      <td>1.000000</td>\n",
              "      <td>-0.100909</td>\n",
              "      <td>0.092239</td>\n",
              "      <td>-0.016808</td>\n",
              "      <td>-0.017025</td>\n",
              "      <td>0.028540</td>\n",
              "      <td>0.138325</td>\n",
              "      <td>0.134116</td>\n",
              "      <td>0.007501</td>\n",
              "      <td>-0.012944</td>\n",
              "      <td>-0.093040</td>\n",
              "      <td>-0.153198</td>\n",
              "      <td>-0.117142</td>\n",
              "    </tr>\n",
              "    <tr>\n",
              "      <th>Study_time</th>\n",
              "      <td>-0.004140</td>\n",
              "      <td>0.064944</td>\n",
              "      <td>-0.009175</td>\n",
              "      <td>-0.100909</td>\n",
              "      <td>1.000000</td>\n",
              "      <td>-0.173563</td>\n",
              "      <td>0.039731</td>\n",
              "      <td>-0.143198</td>\n",
              "      <td>-0.063904</td>\n",
              "      <td>-0.196019</td>\n",
              "      <td>-0.253785</td>\n",
              "      <td>-0.075616</td>\n",
              "      <td>-0.062700</td>\n",
              "      <td>0.160612</td>\n",
              "      <td>0.135880</td>\n",
              "      <td>0.097820</td>\n",
              "    </tr>\n",
              "    <tr>\n",
              "      <th>Failures</th>\n",
              "      <td>0.243665</td>\n",
              "      <td>-0.236680</td>\n",
              "      <td>-0.250408</td>\n",
              "      <td>0.092239</td>\n",
              "      <td>-0.173563</td>\n",
              "      <td>1.000000</td>\n",
              "      <td>-0.044337</td>\n",
              "      <td>0.091987</td>\n",
              "      <td>0.124561</td>\n",
              "      <td>0.136047</td>\n",
              "      <td>0.141962</td>\n",
              "      <td>0.065827</td>\n",
              "      <td>0.063726</td>\n",
              "      <td>-0.354718</td>\n",
              "      <td>-0.355896</td>\n",
              "      <td>-0.360415</td>\n",
              "    </tr>\n",
              "    <tr>\n",
              "      <th>Famrel</th>\n",
              "      <td>0.053940</td>\n",
              "      <td>-0.003914</td>\n",
              "      <td>-0.001370</td>\n",
              "      <td>-0.016808</td>\n",
              "      <td>0.039731</td>\n",
              "      <td>-0.044337</td>\n",
              "      <td>1.000000</td>\n",
              "      <td>0.150701</td>\n",
              "      <td>0.064568</td>\n",
              "      <td>-0.077594</td>\n",
              "      <td>-0.113397</td>\n",
              "      <td>0.094056</td>\n",
              "      <td>-0.044354</td>\n",
              "      <td>0.022168</td>\n",
              "      <td>-0.018281</td>\n",
              "      <td>0.051363</td>\n",
              "    </tr>\n",
              "    <tr>\n",
              "      <th>Free_time</th>\n",
              "      <td>0.016434</td>\n",
              "      <td>0.030891</td>\n",
              "      <td>-0.012846</td>\n",
              "      <td>-0.017025</td>\n",
              "      <td>-0.143198</td>\n",
              "      <td>0.091987</td>\n",
              "      <td>0.150701</td>\n",
              "      <td>1.000000</td>\n",
              "      <td>0.285019</td>\n",
              "      <td>0.209001</td>\n",
              "      <td>0.147822</td>\n",
              "      <td>0.075733</td>\n",
              "      <td>-0.058078</td>\n",
              "      <td>0.012613</td>\n",
              "      <td>-0.013777</td>\n",
              "      <td>0.011307</td>\n",
              "    </tr>\n",
              "    <tr>\n",
              "      <th>Go_out</th>\n",
              "      <td>0.126964</td>\n",
              "      <td>0.064094</td>\n",
              "      <td>0.043105</td>\n",
              "      <td>0.028540</td>\n",
              "      <td>-0.063904</td>\n",
              "      <td>0.124561</td>\n",
              "      <td>0.064568</td>\n",
              "      <td>0.285019</td>\n",
              "      <td>1.000000</td>\n",
              "      <td>0.266994</td>\n",
              "      <td>0.420386</td>\n",
              "      <td>-0.009577</td>\n",
              "      <td>0.044302</td>\n",
              "      <td>-0.149104</td>\n",
              "      <td>-0.162250</td>\n",
              "      <td>-0.132791</td>\n",
              "    </tr>\n",
              "    <tr>\n",
              "      <th>Dalc</th>\n",
              "      <td>0.131125</td>\n",
              "      <td>0.019834</td>\n",
              "      <td>0.002386</td>\n",
              "      <td>0.138325</td>\n",
              "      <td>-0.196019</td>\n",
              "      <td>0.136047</td>\n",
              "      <td>-0.077594</td>\n",
              "      <td>0.209001</td>\n",
              "      <td>0.266994</td>\n",
              "      <td>1.000000</td>\n",
              "      <td>0.647544</td>\n",
              "      <td>0.077180</td>\n",
              "      <td>0.111908</td>\n",
              "      <td>-0.094159</td>\n",
              "      <td>-0.064120</td>\n",
              "      <td>-0.054660</td>\n",
              "    </tr>\n",
              "    <tr>\n",
              "      <th>Walc</th>\n",
              "      <td>0.117276</td>\n",
              "      <td>-0.047123</td>\n",
              "      <td>-0.012631</td>\n",
              "      <td>0.134116</td>\n",
              "      <td>-0.253785</td>\n",
              "      <td>0.141962</td>\n",
              "      <td>-0.113397</td>\n",
              "      <td>0.147822</td>\n",
              "      <td>0.420386</td>\n",
              "      <td>0.647544</td>\n",
              "      <td>1.000000</td>\n",
              "      <td>0.092476</td>\n",
              "      <td>0.136291</td>\n",
              "      <td>-0.126179</td>\n",
              "      <td>-0.084927</td>\n",
              "      <td>-0.051939</td>\n",
              "    </tr>\n",
              "    <tr>\n",
              "      <th>Health</th>\n",
              "      <td>-0.062187</td>\n",
              "      <td>-0.046878</td>\n",
              "      <td>0.014742</td>\n",
              "      <td>0.007501</td>\n",
              "      <td>-0.075616</td>\n",
              "      <td>0.065827</td>\n",
              "      <td>0.094056</td>\n",
              "      <td>0.075733</td>\n",
              "      <td>-0.009577</td>\n",
              "      <td>0.077180</td>\n",
              "      <td>0.092476</td>\n",
              "      <td>1.000000</td>\n",
              "      <td>-0.029937</td>\n",
              "      <td>-0.073172</td>\n",
              "      <td>-0.097720</td>\n",
              "      <td>-0.061335</td>\n",
              "    </tr>\n",
              "    <tr>\n",
              "      <th>Absences</th>\n",
              "      <td>0.175230</td>\n",
              "      <td>0.100285</td>\n",
              "      <td>0.024473</td>\n",
              "      <td>-0.012944</td>\n",
              "      <td>-0.062700</td>\n",
              "      <td>0.063726</td>\n",
              "      <td>-0.044354</td>\n",
              "      <td>-0.058078</td>\n",
              "      <td>0.044302</td>\n",
              "      <td>0.111908</td>\n",
              "      <td>0.136291</td>\n",
              "      <td>-0.029937</td>\n",
              "      <td>1.000000</td>\n",
              "      <td>-0.031003</td>\n",
              "      <td>-0.031777</td>\n",
              "      <td>0.034247</td>\n",
              "    </tr>\n",
              "    <tr>\n",
              "      <th>G1</th>\n",
              "      <td>-0.064081</td>\n",
              "      <td>0.205341</td>\n",
              "      <td>0.190270</td>\n",
              "      <td>-0.093040</td>\n",
              "      <td>0.160612</td>\n",
              "      <td>-0.354718</td>\n",
              "      <td>0.022168</td>\n",
              "      <td>0.012613</td>\n",
              "      <td>-0.149104</td>\n",
              "      <td>-0.094159</td>\n",
              "      <td>-0.126179</td>\n",
              "      <td>-0.073172</td>\n",
              "      <td>-0.031003</td>\n",
              "      <td>1.000000</td>\n",
              "      <td>0.852118</td>\n",
              "      <td>0.801468</td>\n",
              "    </tr>\n",
              "    <tr>\n",
              "      <th>G2</th>\n",
              "      <td>-0.143474</td>\n",
              "      <td>0.215527</td>\n",
              "      <td>0.164893</td>\n",
              "      <td>-0.153198</td>\n",
              "      <td>0.135880</td>\n",
              "      <td>-0.355896</td>\n",
              "      <td>-0.018281</td>\n",
              "      <td>-0.013777</td>\n",
              "      <td>-0.162250</td>\n",
              "      <td>-0.064120</td>\n",
              "      <td>-0.084927</td>\n",
              "      <td>-0.097720</td>\n",
              "      <td>-0.031777</td>\n",
              "      <td>0.852118</td>\n",
              "      <td>1.000000</td>\n",
              "      <td>0.904868</td>\n",
              "    </tr>\n",
              "    <tr>\n",
              "      <th>G3</th>\n",
              "      <td>-0.161579</td>\n",
              "      <td>0.217147</td>\n",
              "      <td>0.152457</td>\n",
              "      <td>-0.117142</td>\n",
              "      <td>0.097820</td>\n",
              "      <td>-0.360415</td>\n",
              "      <td>0.051363</td>\n",
              "      <td>0.011307</td>\n",
              "      <td>-0.132791</td>\n",
              "      <td>-0.054660</td>\n",
              "      <td>-0.051939</td>\n",
              "      <td>-0.061335</td>\n",
              "      <td>0.034247</td>\n",
              "      <td>0.801468</td>\n",
              "      <td>0.904868</td>\n",
              "      <td>1.000000</td>\n",
              "    </tr>\n",
              "  </tbody>\n",
              "</table>\n",
              "</div>\n",
              "      <button class=\"colab-df-convert\" onclick=\"convertToInteractive('df-afb80a90-8e2e-46ab-93dd-2e82274878aa')\"\n",
              "              title=\"Convert this dataframe to an interactive table.\"\n",
              "              style=\"display:none;\">\n",
              "        \n",
              "  <svg xmlns=\"http://www.w3.org/2000/svg\" height=\"24px\"viewBox=\"0 0 24 24\"\n",
              "       width=\"24px\">\n",
              "    <path d=\"M0 0h24v24H0V0z\" fill=\"none\"/>\n",
              "    <path d=\"M18.56 5.44l.94 2.06.94-2.06 2.06-.94-2.06-.94-.94-2.06-.94 2.06-2.06.94zm-11 1L8.5 8.5l.94-2.06 2.06-.94-2.06-.94L8.5 2.5l-.94 2.06-2.06.94zm10 10l.94 2.06.94-2.06 2.06-.94-2.06-.94-.94-2.06-.94 2.06-2.06.94z\"/><path d=\"M17.41 7.96l-1.37-1.37c-.4-.4-.92-.59-1.43-.59-.52 0-1.04.2-1.43.59L10.3 9.45l-7.72 7.72c-.78.78-.78 2.05 0 2.83L4 21.41c.39.39.9.59 1.41.59.51 0 1.02-.2 1.41-.59l7.78-7.78 2.81-2.81c.8-.78.8-2.07 0-2.86zM5.41 20L4 18.59l7.72-7.72 1.47 1.35L5.41 20z\"/>\n",
              "  </svg>\n",
              "      </button>\n",
              "      \n",
              "  <style>\n",
              "    .colab-df-container {\n",
              "      display:flex;\n",
              "      flex-wrap:wrap;\n",
              "      gap: 12px;\n",
              "    }\n",
              "\n",
              "    .colab-df-convert {\n",
              "      background-color: #E8F0FE;\n",
              "      border: none;\n",
              "      border-radius: 50%;\n",
              "      cursor: pointer;\n",
              "      display: none;\n",
              "      fill: #1967D2;\n",
              "      height: 32px;\n",
              "      padding: 0 0 0 0;\n",
              "      width: 32px;\n",
              "    }\n",
              "\n",
              "    .colab-df-convert:hover {\n",
              "      background-color: #E2EBFA;\n",
              "      box-shadow: 0px 1px 2px rgba(60, 64, 67, 0.3), 0px 1px 3px 1px rgba(60, 64, 67, 0.15);\n",
              "      fill: #174EA6;\n",
              "    }\n",
              "\n",
              "    [theme=dark] .colab-df-convert {\n",
              "      background-color: #3B4455;\n",
              "      fill: #D2E3FC;\n",
              "    }\n",
              "\n",
              "    [theme=dark] .colab-df-convert:hover {\n",
              "      background-color: #434B5C;\n",
              "      box-shadow: 0px 1px 3px 1px rgba(0, 0, 0, 0.15);\n",
              "      filter: drop-shadow(0px 1px 2px rgba(0, 0, 0, 0.3));\n",
              "      fill: #FFFFFF;\n",
              "    }\n",
              "  </style>\n",
              "\n",
              "      <script>\n",
              "        const buttonEl =\n",
              "          document.querySelector('#df-afb80a90-8e2e-46ab-93dd-2e82274878aa button.colab-df-convert');\n",
              "        buttonEl.style.display =\n",
              "          google.colab.kernel.accessAllowed ? 'block' : 'none';\n",
              "\n",
              "        async function convertToInteractive(key) {\n",
              "          const element = document.querySelector('#df-afb80a90-8e2e-46ab-93dd-2e82274878aa');\n",
              "          const dataTable =\n",
              "            await google.colab.kernel.invokeFunction('convertToInteractive',\n",
              "                                                     [key], {});\n",
              "          if (!dataTable) return;\n",
              "\n",
              "          const docLinkHtml = 'Like what you see? Visit the ' +\n",
              "            '<a target=\"_blank\" href=https://colab.research.google.com/notebooks/data_table.ipynb>data table notebook</a>'\n",
              "            + ' to learn more about interactive tables.';\n",
              "          element.innerHTML = '';\n",
              "          dataTable['output_type'] = 'display_data';\n",
              "          await google.colab.output.renderOutput(dataTable, element);\n",
              "          const docLink = document.createElement('div');\n",
              "          docLink.innerHTML = docLinkHtml;\n",
              "          element.appendChild(docLink);\n",
              "        }\n",
              "      </script>\n",
              "    </div>\n",
              "  </div>\n",
              "  "
            ]
          },
          "metadata": {},
          "execution_count": 36
        }
      ]
    },
    {
      "cell_type": "code",
      "source": [
        "fig = plt.figure(figsize=(8,8))\n",
        "plt.matshow(var, cmap ='RdBu', fignum = fig.number)\n",
        "plt.xticks(range(len(var.columns)),var.columns, rotation='vertical');\n",
        "plt.yticks(range(len(var.columns)),var.columns);"
      ],
      "metadata": {
        "colab": {
          "base_uri": "https://localhost:8080/",
          "height": 578
        },
        "id": "Xl4-sI3CPiYx",
        "outputId": "b5253e6e-7e5b-4484-a039-7c8567a8e26d"
      },
      "execution_count": null,
      "outputs": [
        {
          "output_type": "display_data",
          "data": {
            "text/plain": [
              "<Figure size 576x576 with 1 Axes>"
            ],
            "image/png": "[encoded data removed]"
          },
          "metadata": {
            "needs_background": "light"
          }
        }
      ]
    },
    {
      "cell_type": "markdown",
      "source": [
        "# **Ratio of first period grade vs second period grade**"
      ],
      "metadata": {
        "id": "zVAkeTOlR_GI"
      }
    },
    {
      "cell_type": "code",
      "source": [
        "data.plot(kind=\"scatter\", x= 'G1', y= 'G2',figsize=(6,6))"
      ],
      "metadata": {
        "colab": {
          "base_uri": "https://localhost:8080/",
          "height": 405
        },
        "id": "kW74XNkHP4aw",
        "outputId": "4a2122e3-436a-42c1-935e-db1dcd2cb112"
      },
      "execution_count": null,
      "outputs": [
        {
          "output_type": "execute_result",
          "data": {
            "text/plain": [
              "<matplotlib.axes._subplots.AxesSubplot at 0x7f479c67f090>"
            ]
          },
          "metadata": {},
          "execution_count": 38
        },
        {
          "output_type": "display_data",
          "data": {
            "text/plain": [
              "<Figure size 432x432 with 1 Axes>"
            ],
            "image/png": "[encoded data removed]"
          },
          "metadata": {
            "needs_background": "light"
          }
        }
      ]
    },
    {
      "cell_type": "markdown",
      "source": [
        "# **Ratio of Free time vs Travel time**"
      ],
      "metadata": {
        "id": "eRFOaqlUSTDS"
      }
    },
    {
      "cell_type": "code",
      "source": [
        "data.plot(kind=\"scatter\", x= 'Free_time', y= 'Trave_ltime',figsize=(6,6))"
      ],
      "metadata": {
        "colab": {
          "base_uri": "https://localhost:8080/",
          "height": 406
        },
        "id": "7hjr8st4QNc3",
        "outputId": "1a32e8a4-5089-469e-f454-afe012e99208"
      },
      "execution_count": null,
      "outputs": [
        {
          "output_type": "execute_result",
          "data": {
            "text/plain": [
              "<matplotlib.axes._subplots.AxesSubplot at 0x7f479b7dc0d0>"
            ]
          },
          "metadata": {},
          "execution_count": 39
        },
        {
          "output_type": "display_data",
          "data": {
            "text/plain": [
              "<Figure size 432x432 with 1 Axes>"
            ],
            "image/png": "[encoded data removed]"
          },
          "metadata": {
            "needs_background": "light"
          }
        }
      ]
    },
    {
      "cell_type": "markdown",
      "source": [
        "# **Check null value of DataSet**"
      ],
      "metadata": {
        "id": "UmB4cruDOOtZ"
      }
    },
    {
      "cell_type": "code",
      "source": [
        "data.isnull().sum()"
      ],
      "metadata": {
        "colab": {
          "base_uri": "https://localhost:8080/"
        },
        "id": "l1MAcE_jmXos",
        "outputId": "18852e94-c5bc-418d-954b-7de1fe981321"
      },
      "execution_count": null,
      "outputs": [
        {
          "output_type": "execute_result",
          "data": {
            "text/plain": [
              "School                        0\n",
              "Sex                           0\n",
              "Age                           0\n",
              "Address                       0\n",
              "Family_size                   0\n",
              "Parent_cohabitation_status    0\n",
              "Mother_education              0\n",
              "Father_education              0\n",
              "Mother_job                    0\n",
              "Father_job                    0\n",
              "Reason                        0\n",
              "Guardian                      0\n",
              "Trave_ltime                   0\n",
              "Study_time                    0\n",
              "Failures                      0\n",
              "Schoolsup                     0\n",
              "Family_educational            0\n",
              "Paid                          0\n",
              "activities                    0\n",
              "Nursery                       0\n",
              "Higher                        0\n",
              "Internet                      0\n",
              "Romantic                      0\n",
              "Famrel                        0\n",
              "Free_time                     0\n",
              "Go_out                        0\n",
              "Dalc                          0\n",
              "Walc                          0\n",
              "Health                        0\n",
              "Absences                      0\n",
              "G1                            0\n",
              "G2                            0\n",
              "G3                            0\n",
              "dtype: int64"
            ]
          },
          "metadata": {},
          "execution_count": 41
        }
      ]
    },
    {
      "cell_type": "markdown",
      "source": [
        "# **Acessing column in DataFrame**"
      ],
      "metadata": {
        "id": "f62fWK9luAhE"
      }
    },
    {
      "cell_type": "code",
      "source": [
        "x= data.Mother_education\n",
        "print(x)\n",
        "y= data.Father_education\n",
        "print(y)"
      ],
      "metadata": {
        "colab": {
          "base_uri": "https://localhost:8080/",
          "height": 0
        },
        "id": "bRHswNG0qiI8",
        "outputId": "774fabba-9b4c-46af-98c5-abf8e47ec96f"
      },
      "execution_count": 11,
      "outputs": [
        {
          "output_type": "stream",
          "name": "stdout",
          "text": [
            "0      4\n",
            "1      1\n",
            "2      1\n",
            "3      4\n",
            "4      3\n",
            "      ..\n",
            "390    2\n",
            "391    3\n",
            "392    1\n",
            "393    3\n",
            "394    1\n",
            "Name: Mother_education, Length: 395, dtype: int64\n",
            "0      4\n",
            "1      1\n",
            "2      1\n",
            "3      2\n",
            "4      3\n",
            "      ..\n",
            "390    2\n",
            "391    1\n",
            "392    1\n",
            "393    2\n",
            "394    1\n",
            "Name: Father_education, Length: 395, dtype: int64\n"
          ]
        }
      ]
    },
    {
      "cell_type": "markdown",
      "source": [
        "# **Transform the objects into integer, so that we can use it**"
      ],
      "metadata": {
        "id": "H3B3_ApPKBGy"
      }
    },
    {
      "cell_type": "code",
      "source": [
        "type_change = [name for name in data.columns if data[name].dtype in ['int64', 'float64']]\n",
        "Type_change = [name for name in data.columns if data[name].dtype == 'object']\n"
      ],
      "metadata": {
        "id": "OiJFBU58uTtP"
      },
      "execution_count": 12,
      "outputs": []
    },
    {
      "cell_type": "markdown",
      "source": [
        "# **Unique Value Of Each Column**\n",
        "\n",
        "---\n",
        "\n"
      ],
      "metadata": {
        "id": "p4e1jnFBLX8v"
      }
    },
    {
      "cell_type": "code",
      "source": [
        "for x in Type_change:\n",
        "  print(x,\" = \",data[x].unique())"
      ],
      "metadata": {
        "colab": {
          "base_uri": "https://localhost:8080/",
          "height": 0
        },
        "id": "cBCWVLOTvMI6",
        "outputId": "18c97e3d-afa5-462d-a21a-9eca5a5c53f6"
      },
      "execution_count": 13,
      "outputs": [
        {
          "output_type": "stream",
          "name": "stdout",
          "text": [
            "School  =  ['GP' 'MS']\n",
            "Sex  =  ['Female' 'Male']\n",
            "Address  =  ['Urban' 'Rural']\n",
            "Family_size  =  ['Greater than 3' 'Less or equal to 3']\n",
            "Parent_cohabitation_status  =  ['Apart' 'Living together']\n",
            "Mother_job  =  ['at_home' 'health' 'other' 'services' 'teacher']\n",
            "Father_job  =  ['teacher' 'other' 'services' 'health' 'at_home']\n",
            "Reason  =  ['course' 'other' 'home' 'reputation']\n",
            "Guardian  =  ['mother' 'father' 'other']\n",
            "Schoolsup  =  ['yes' 'no']\n",
            "Family_educational  =  ['no' 'yes']\n",
            "Paid  =  ['no' 'yes']\n",
            "activities  =  ['no' 'yes']\n",
            "Nursery  =  ['yes' 'no']\n",
            "Higher  =  ['yes' 'no']\n",
            "Internet  =  ['no' 'yes']\n",
            "Romantic  =  ['no' 'yes']\n"
          ]
        }
      ]
    },
    {
      "cell_type": "code",
      "source": [],
      "metadata": {
        "id": "Qs12kl5OOdnE"
      },
      "execution_count": 13,
      "outputs": []
    }
  ]
}